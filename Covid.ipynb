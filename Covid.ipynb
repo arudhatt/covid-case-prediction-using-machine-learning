{
  "nbformat": 4,
  "nbformat_minor": 0,
  "metadata": {
    "accelerator": "GPU",
    "colab": {
      "provenance": [],
      "include_colab_link": true
    },
    "kernelspec": {
      "display_name": "Python 3",
      "language": "python",
      "name": "python3"
    },
    "language_info": {
      "codemirror_mode": {
        "name": "ipython",
        "version": 3
      },
      "file_extension": ".py",
      "mimetype": "text/x-python",
      "name": "python",
      "nbconvert_exporter": "python",
      "pygments_lexer": "ipython3",
      "version": "3.8.5"
    }
  },
  "cells": [
    {
      "cell_type": "markdown",
      "metadata": {
        "id": "view-in-github",
        "colab_type": "text"
      },
      "source": [
        "<a href=\"https://colab.research.google.com/github/arudhatt/covid_data_analysis/blob/main/Covid.ipynb\" target=\"_parent\"><img src=\"https://colab.research.google.com/assets/colab-badge.svg\" alt=\"Open In Colab\"/></a>"
      ]
    },
    {
      "cell_type": "code",
      "metadata": {
        "id": "htPo38fXUiU4"
      },
      "source": [
        "import numpy as np # linear algebra\n",
        "import pandas as pd # data processing, CSV file I/O (e.g. pd.read_csv)\n",
        "import seaborn as sns\n",
        "import matplotlib.pyplot as plt\n",
        "import keras\n",
        "from keras.models import Sequential\n",
        "from keras.layers import Dense\n",
        "from keras.wrappers.scikit_learn import KerasClassifier\n",
        "from sklearn.model_selection import cross_val_score\n",
        "from sklearn.preprocessing import LabelEncoder\n",
        "from sklearn.model_selection import StratifiedKFold\n",
        "from sklearn.preprocessing import StandardScaler\n",
        "from sklearn.pipeline import Pipeline\n",
        "\n",
        "import warnings\n",
        "# filter warnings\n",
        "warnings.filterwarnings('ignore')\n",
        "\n",
        "%matplotlib inline"
      ],
      "execution_count": null,
      "outputs": []
    },
    {
      "cell_type": "markdown",
      "metadata": {
        "id": "EI49OYsCUiU9"
      },
      "source": [
        "### Load Covid Dataset"
      ]
    },
    {
      "cell_type": "code",
      "metadata": {
        "colab": {
          "base_uri": "https://localhost:8080/",
          "height": 258
        },
        "id": "DQMk8FaPUiU-",
        "outputId": "98eb1fb9-2de3-4de9-ec6d-e0a284b02763"
      },
      "source": [
        "# Read CSV file into a data frame\n",
        "covid_df = pd.read_csv('COVID_dataset.csv')\n",
        "covid_df.head()"
      ],
      "execution_count": null,
      "outputs": [
        {
          "output_type": "execute_result",
          "data": {
            "text/html": [
              "<div>\n",
              "<style scoped>\n",
              "    .dataframe tbody tr th:only-of-type {\n",
              "        vertical-align: middle;\n",
              "    }\n",
              "\n",
              "    .dataframe tbody tr th {\n",
              "        vertical-align: top;\n",
              "    }\n",
              "\n",
              "    .dataframe thead th {\n",
              "        text-align: right;\n",
              "    }\n",
              "</style>\n",
              "<table border=\"1\" class=\"dataframe\">\n",
              "  <thead>\n",
              "    <tr style=\"text-align: right;\">\n",
              "      <th></th>\n",
              "      <th>Accurate_Episode_Date</th>\n",
              "      <th>Case_Reported_Date</th>\n",
              "      <th>Test_Reported_Date</th>\n",
              "      <th>Specimen_Date</th>\n",
              "      <th>Age_Group</th>\n",
              "      <th>Client_Gender</th>\n",
              "      <th>Case_AcquisitionInfo</th>\n",
              "      <th>Reporting_PHU_City</th>\n",
              "      <th>Outbreak_Related</th>\n",
              "      <th>Reporting_PHU_Latitude</th>\n",
              "      <th>Reporting_PHU_Longitude</th>\n",
              "      <th>Outcome1</th>\n",
              "    </tr>\n",
              "  </thead>\n",
              "  <tbody>\n",
              "    <tr>\n",
              "      <th>0</th>\n",
              "      <td>2020-03-30</td>\n",
              "      <td>2020-03-31</td>\n",
              "      <td>2020-03-31</td>\n",
              "      <td>2020-03-30</td>\n",
              "      <td>70s</td>\n",
              "      <td>MALE</td>\n",
              "      <td>OB</td>\n",
              "      <td>Stratford</td>\n",
              "      <td>Yes</td>\n",
              "      <td>43.368662</td>\n",
              "      <td>-81.001913</td>\n",
              "      <td>Fatal</td>\n",
              "    </tr>\n",
              "    <tr>\n",
              "      <th>1</th>\n",
              "      <td>2021-01-22</td>\n",
              "      <td>2021-01-24</td>\n",
              "      <td>2021-01-24</td>\n",
              "      <td>2021-01-23</td>\n",
              "      <td>50s</td>\n",
              "      <td>FEMALE</td>\n",
              "      <td>NO KNOWN EPI LINK</td>\n",
              "      <td>Newmarket</td>\n",
              "      <td>NaN</td>\n",
              "      <td>44.048023</td>\n",
              "      <td>-79.480239</td>\n",
              "      <td>Not Resolved</td>\n",
              "    </tr>\n",
              "    <tr>\n",
              "      <th>2</th>\n",
              "      <td>2020-03-24</td>\n",
              "      <td>2020-04-14</td>\n",
              "      <td>2020-04-14</td>\n",
              "      <td>2020-04-13</td>\n",
              "      <td>70s</td>\n",
              "      <td>FEMALE</td>\n",
              "      <td>OB</td>\n",
              "      <td>Toronto</td>\n",
              "      <td>Yes</td>\n",
              "      <td>43.656591</td>\n",
              "      <td>-79.379358</td>\n",
              "      <td>Resolved</td>\n",
              "    </tr>\n",
              "    <tr>\n",
              "      <th>3</th>\n",
              "      <td>2021-01-18</td>\n",
              "      <td>2021-01-21</td>\n",
              "      <td>2021-01-21</td>\n",
              "      <td>2021-01-18</td>\n",
              "      <td>&lt;20</td>\n",
              "      <td>MALE</td>\n",
              "      <td>CC</td>\n",
              "      <td>Mississauga</td>\n",
              "      <td>NaN</td>\n",
              "      <td>43.647471</td>\n",
              "      <td>-79.708893</td>\n",
              "      <td>Not Resolved</td>\n",
              "    </tr>\n",
              "    <tr>\n",
              "      <th>4</th>\n",
              "      <td>2020-12-26</td>\n",
              "      <td>2020-12-28</td>\n",
              "      <td>2020-12-28</td>\n",
              "      <td>2020-12-26</td>\n",
              "      <td>60s</td>\n",
              "      <td>MALE</td>\n",
              "      <td>OB</td>\n",
              "      <td>Windsor</td>\n",
              "      <td>Yes</td>\n",
              "      <td>42.308796</td>\n",
              "      <td>-83.033670</td>\n",
              "      <td>Resolved</td>\n",
              "    </tr>\n",
              "  </tbody>\n",
              "</table>\n",
              "</div>"
            ],
            "text/plain": [
              "  Accurate_Episode_Date  ...      Outcome1\n",
              "0            2020-03-30  ...         Fatal\n",
              "1            2021-01-22  ...  Not Resolved\n",
              "2            2020-03-24  ...      Resolved\n",
              "3            2021-01-18  ...  Not Resolved\n",
              "4            2020-12-26  ...      Resolved\n",
              "\n",
              "[5 rows x 12 columns]"
            ]
          },
          "metadata": {
            "tags": []
          },
          "execution_count": 4
        }
      ]
    },
    {
      "cell_type": "code",
      "metadata": {
        "colab": {
          "base_uri": "https://localhost:8080/"
        },
        "id": "YQIPKir0UiU_",
        "outputId": "e4267c7a-6ee6-4089-bd96-17c2a2bc7131"
      },
      "source": [
        "covid_df.info()"
      ],
      "execution_count": null,
      "outputs": [
        {
          "output_type": "stream",
          "text": [
            "<class 'pandas.core.frame.DataFrame'>\n",
            "RangeIndex: 14860 entries, 0 to 14859\n",
            "Data columns (total 12 columns):\n",
            " #   Column                   Non-Null Count  Dtype  \n",
            "---  ------                   --------------  -----  \n",
            " 0   Accurate_Episode_Date    14860 non-null  object \n",
            " 1   Case_Reported_Date       14860 non-null  object \n",
            " 2   Test_Reported_Date       14657 non-null  object \n",
            " 3   Specimen_Date            14738 non-null  object \n",
            " 4   Age_Group                14855 non-null  object \n",
            " 5   Client_Gender            14860 non-null  object \n",
            " 6   Case_AcquisitionInfo     14860 non-null  object \n",
            " 7   Reporting_PHU_City       14860 non-null  object \n",
            " 8   Outbreak_Related         5778 non-null   object \n",
            " 9   Reporting_PHU_Latitude   14860 non-null  float64\n",
            " 10  Reporting_PHU_Longitude  14860 non-null  float64\n",
            " 11  Outcome1                 14860 non-null  object \n",
            "dtypes: float64(2), object(10)\n",
            "memory usage: 1.4+ MB\n"
          ],
          "name": "stdout"
        }
      ]
    },
    {
      "cell_type": "markdown",
      "metadata": {
        "id": "wW3F2fAaUiVA"
      },
      "source": [
        "### Covid Data Preprocessing"
      ]
    },
    {
      "cell_type": "code",
      "metadata": {
        "colab": {
          "base_uri": "https://localhost:8080/"
        },
        "id": "UpXgBx0OUiVA",
        "outputId": "77c8c946-e6c4-4d58-9464-8357775d81f8"
      },
      "source": [
        "covid_df.Age_Group.unique()"
      ],
      "execution_count": null,
      "outputs": [
        {
          "output_type": "execute_result",
          "data": {
            "text/plain": [
              "array(['70s', '50s', '<20', '60s', '20s', '80s', '40s', '90s', '30s', nan],\n",
              "      dtype=object)"
            ]
          },
          "metadata": {
            "tags": []
          },
          "execution_count": 6
        }
      ]
    },
    {
      "cell_type": "code",
      "metadata": {
        "id": "U55-bZAcUiVB"
      },
      "source": [
        "age_mapping = {'90s':90,'80s':80,'70s':70,'60s':60,'50s':50,'40s':40,'30s':30,'20s':20,'<20':10}"
      ],
      "execution_count": null,
      "outputs": []
    },
    {
      "cell_type": "code",
      "metadata": {
        "id": "RzNqd0LJUiVB"
      },
      "source": [
        "covid_df['Age_Group'] = covid_df['Age_Group'].map(age_mapping)"
      ],
      "execution_count": null,
      "outputs": []
    },
    {
      "cell_type": "code",
      "metadata": {
        "colab": {
          "base_uri": "https://localhost:8080/"
        },
        "id": "dcitM4lvUiVC",
        "outputId": "0f32a244-de6f-4453-85d9-a1970dc3a786"
      },
      "source": [
        "covid_df.Client_Gender.unique()"
      ],
      "execution_count": null,
      "outputs": [
        {
          "output_type": "execute_result",
          "data": {
            "text/plain": [
              "array(['MALE', 'FEMALE', 'UNSPECIFIED', 'GENDER DIVERSE'], dtype=object)"
            ]
          },
          "metadata": {
            "tags": []
          },
          "execution_count": 9
        }
      ]
    },
    {
      "cell_type": "code",
      "metadata": {
        "colab": {
          "base_uri": "https://localhost:8080/"
        },
        "id": "GrdrphpIUiVE",
        "outputId": "d5a2abac-630c-4e50-cba4-7ea5c42ea70e"
      },
      "source": [
        "covid_df.Case_AcquisitionInfo.unique()"
      ],
      "execution_count": null,
      "outputs": [
        {
          "output_type": "execute_result",
          "data": {
            "text/plain": [
              "array(['OB', 'NO KNOWN EPI LINK', 'CC', 'MISSING INFORMATION', 'TRAVEL',\n",
              "       'UNSPECIFIED EPI LINK'], dtype=object)"
            ]
          },
          "metadata": {
            "tags": []
          },
          "execution_count": 10
        }
      ]
    },
    {
      "cell_type": "code",
      "metadata": {
        "colab": {
          "base_uri": "https://localhost:8080/"
        },
        "id": "SzRYN6BwUiVG",
        "outputId": "1e8658fd-2efb-4add-d1e7-817f875e7b95"
      },
      "source": [
        "covid_df.Outbreak_Related.unique()"
      ],
      "execution_count": null,
      "outputs": [
        {
          "output_type": "execute_result",
          "data": {
            "text/plain": [
              "array(['Yes', nan], dtype=object)"
            ]
          },
          "metadata": {
            "tags": []
          },
          "execution_count": 11
        }
      ]
    },
    {
      "cell_type": "code",
      "metadata": {
        "id": "OR-95-r9UiVH"
      },
      "source": [
        "covid_df['Outbreak_Related'].fillna('No', inplace = True)"
      ],
      "execution_count": null,
      "outputs": []
    },
    {
      "cell_type": "code",
      "metadata": {
        "colab": {
          "base_uri": "https://localhost:8080/"
        },
        "id": "Ha0-isb0UiVH",
        "outputId": "df3487ac-80e8-40c9-8dcd-f9b39c8714bb"
      },
      "source": [
        "covid_df.Outcome1.unique()"
      ],
      "execution_count": null,
      "outputs": [
        {
          "output_type": "execute_result",
          "data": {
            "text/plain": [
              "array(['Fatal', 'Not Resolved', 'Resolved'], dtype=object)"
            ]
          },
          "metadata": {
            "tags": []
          },
          "execution_count": 13
        }
      ]
    },
    {
      "cell_type": "code",
      "metadata": {
        "colab": {
          "base_uri": "https://localhost:8080/"
        },
        "id": "7uissJbiUiVI",
        "outputId": "cc8fae60-ad09-4823-f943-bfd1fe1bfc86"
      },
      "source": [
        "covid_df.isnull().sum()"
      ],
      "execution_count": null,
      "outputs": [
        {
          "output_type": "execute_result",
          "data": {
            "text/plain": [
              "Accurate_Episode_Date        0\n",
              "Case_Reported_Date           0\n",
              "Test_Reported_Date         203\n",
              "Specimen_Date              122\n",
              "Age_Group                    5\n",
              "Client_Gender                0\n",
              "Case_AcquisitionInfo         0\n",
              "Reporting_PHU_City           0\n",
              "Outbreak_Related             0\n",
              "Reporting_PHU_Latitude       0\n",
              "Reporting_PHU_Longitude      0\n",
              "Outcome1                     0\n",
              "dtype: int64"
            ]
          },
          "metadata": {
            "tags": []
          },
          "execution_count": 14
        }
      ]
    },
    {
      "cell_type": "code",
      "metadata": {
        "colab": {
          "base_uri": "https://localhost:8080/"
        },
        "id": "OH7mgdNnUiVJ",
        "outputId": "f46ec58a-485e-4cea-f519-61e093be77be"
      },
      "source": [
        "covid_df.shape"
      ],
      "execution_count": null,
      "outputs": [
        {
          "output_type": "execute_result",
          "data": {
            "text/plain": [
              "(14860, 12)"
            ]
          },
          "metadata": {
            "tags": []
          },
          "execution_count": 15
        }
      ]
    },
    {
      "cell_type": "code",
      "metadata": {
        "id": "1VLtdzoLUiVJ"
      },
      "source": [
        "covid_df.dropna(axis=0, subset=['Age_Group'], inplace=True)"
      ],
      "execution_count": null,
      "outputs": []
    },
    {
      "cell_type": "code",
      "metadata": {
        "id": "qvrsmTCtUiVK"
      },
      "source": [
        "covid_df.dropna(axis=0, subset=['Test_Reported_Date'], inplace=True)"
      ],
      "execution_count": null,
      "outputs": []
    },
    {
      "cell_type": "code",
      "metadata": {
        "id": "hDmXoQaoUiVK"
      },
      "source": [
        "covid_df.dropna(axis=0, subset=['Specimen_Date'], inplace=True)"
      ],
      "execution_count": null,
      "outputs": []
    },
    {
      "cell_type": "code",
      "metadata": {
        "colab": {
          "base_uri": "https://localhost:8080/"
        },
        "id": "YTbzb03lUiVK",
        "outputId": "0feeb6ee-b1d8-4425-a025-8626d83bde7c"
      },
      "source": [
        "covid_df.nunique(axis=0)"
      ],
      "execution_count": null,
      "outputs": [
        {
          "output_type": "execute_result",
          "data": {
            "text/plain": [
              "Accurate_Episode_Date      332\n",
              "Case_Reported_Date         323\n",
              "Test_Reported_Date         320\n",
              "Specimen_Date              324\n",
              "Age_Group                    9\n",
              "Client_Gender                4\n",
              "Case_AcquisitionInfo         6\n",
              "Reporting_PHU_City          34\n",
              "Outbreak_Related             2\n",
              "Reporting_PHU_Latitude      34\n",
              "Reporting_PHU_Longitude     34\n",
              "Outcome1                     3\n",
              "dtype: int64"
            ]
          },
          "metadata": {
            "tags": []
          },
          "execution_count": 19
        }
      ]
    },
    {
      "cell_type": "code",
      "metadata": {
        "id": "J9a6JAsuUiVL"
      },
      "source": [
        "covid_df['Accurate_Episode_Date'] = pd.to_datetime(covid_df['Accurate_Episode_Date'],\n",
        "                                                   infer_datetime_format=True, errors='coerce')\n",
        "covid_df['Case_Reported_Date'] = pd.to_datetime(covid_df['Case_Reported_Date'],\n",
        "                                                   infer_datetime_format=True, errors='coerce')\n",
        "covid_df['Test_Reported_Date'] = pd.to_datetime(covid_df['Test_Reported_Date'],\n",
        "                                                   infer_datetime_format=True, errors='coerce')\n",
        "covid_df['Specimen_Date'] = pd.to_datetime(covid_df['Specimen_Date'],\n",
        "                                                   infer_datetime_format=True, errors='coerce')"
      ],
      "execution_count": null,
      "outputs": []
    },
    {
      "cell_type": "code",
      "metadata": {
        "colab": {
          "base_uri": "https://localhost:8080/"
        },
        "id": "u-5YM1FPUiVM",
        "outputId": "610646e7-543b-49e2-d0d0-c34dc880ebac"
      },
      "source": [
        "covid_df.info()"
      ],
      "execution_count": null,
      "outputs": [
        {
          "output_type": "stream",
          "text": [
            "<class 'pandas.core.frame.DataFrame'>\n",
            "Int64Index: 14650 entries, 0 to 14859\n",
            "Data columns (total 12 columns):\n",
            " #   Column                   Non-Null Count  Dtype         \n",
            "---  ------                   --------------  -----         \n",
            " 0   Accurate_Episode_Date    14650 non-null  datetime64[ns]\n",
            " 1   Case_Reported_Date       14650 non-null  datetime64[ns]\n",
            " 2   Test_Reported_Date       14650 non-null  datetime64[ns]\n",
            " 3   Specimen_Date            14650 non-null  datetime64[ns]\n",
            " 4   Age_Group                14650 non-null  float64       \n",
            " 5   Client_Gender            14650 non-null  object        \n",
            " 6   Case_AcquisitionInfo     14650 non-null  object        \n",
            " 7   Reporting_PHU_City       14650 non-null  object        \n",
            " 8   Outbreak_Related         14650 non-null  object        \n",
            " 9   Reporting_PHU_Latitude   14650 non-null  float64       \n",
            " 10  Reporting_PHU_Longitude  14650 non-null  float64       \n",
            " 11  Outcome1                 14650 non-null  object        \n",
            "dtypes: datetime64[ns](4), float64(3), object(5)\n",
            "memory usage: 1.5+ MB\n"
          ],
          "name": "stdout"
        }
      ]
    },
    {
      "cell_type": "code",
      "metadata": {
        "colab": {
          "base_uri": "https://localhost:8080/",
          "height": 258
        },
        "id": "p0XY0SIaUiVM",
        "outputId": "3cdaecea-c3ec-44e2-8205-656c9db2cbb1"
      },
      "source": [
        "covid_df.head()"
      ],
      "execution_count": null,
      "outputs": [
        {
          "output_type": "execute_result",
          "data": {
            "text/html": [
              "<div>\n",
              "<style scoped>\n",
              "    .dataframe tbody tr th:only-of-type {\n",
              "        vertical-align: middle;\n",
              "    }\n",
              "\n",
              "    .dataframe tbody tr th {\n",
              "        vertical-align: top;\n",
              "    }\n",
              "\n",
              "    .dataframe thead th {\n",
              "        text-align: right;\n",
              "    }\n",
              "</style>\n",
              "<table border=\"1\" class=\"dataframe\">\n",
              "  <thead>\n",
              "    <tr style=\"text-align: right;\">\n",
              "      <th></th>\n",
              "      <th>Accurate_Episode_Date</th>\n",
              "      <th>Case_Reported_Date</th>\n",
              "      <th>Test_Reported_Date</th>\n",
              "      <th>Specimen_Date</th>\n",
              "      <th>Age_Group</th>\n",
              "      <th>Client_Gender</th>\n",
              "      <th>Case_AcquisitionInfo</th>\n",
              "      <th>Reporting_PHU_City</th>\n",
              "      <th>Outbreak_Related</th>\n",
              "      <th>Reporting_PHU_Latitude</th>\n",
              "      <th>Reporting_PHU_Longitude</th>\n",
              "      <th>Outcome1</th>\n",
              "    </tr>\n",
              "  </thead>\n",
              "  <tbody>\n",
              "    <tr>\n",
              "      <th>0</th>\n",
              "      <td>2020-03-30</td>\n",
              "      <td>2020-03-31</td>\n",
              "      <td>2020-03-31</td>\n",
              "      <td>2020-03-30</td>\n",
              "      <td>70.0</td>\n",
              "      <td>MALE</td>\n",
              "      <td>OB</td>\n",
              "      <td>Stratford</td>\n",
              "      <td>Yes</td>\n",
              "      <td>43.368662</td>\n",
              "      <td>-81.001913</td>\n",
              "      <td>Fatal</td>\n",
              "    </tr>\n",
              "    <tr>\n",
              "      <th>1</th>\n",
              "      <td>2021-01-22</td>\n",
              "      <td>2021-01-24</td>\n",
              "      <td>2021-01-24</td>\n",
              "      <td>2021-01-23</td>\n",
              "      <td>50.0</td>\n",
              "      <td>FEMALE</td>\n",
              "      <td>NO KNOWN EPI LINK</td>\n",
              "      <td>Newmarket</td>\n",
              "      <td>No</td>\n",
              "      <td>44.048023</td>\n",
              "      <td>-79.480239</td>\n",
              "      <td>Not Resolved</td>\n",
              "    </tr>\n",
              "    <tr>\n",
              "      <th>2</th>\n",
              "      <td>2020-03-24</td>\n",
              "      <td>2020-04-14</td>\n",
              "      <td>2020-04-14</td>\n",
              "      <td>2020-04-13</td>\n",
              "      <td>70.0</td>\n",
              "      <td>FEMALE</td>\n",
              "      <td>OB</td>\n",
              "      <td>Toronto</td>\n",
              "      <td>Yes</td>\n",
              "      <td>43.656591</td>\n",
              "      <td>-79.379358</td>\n",
              "      <td>Resolved</td>\n",
              "    </tr>\n",
              "    <tr>\n",
              "      <th>3</th>\n",
              "      <td>2021-01-18</td>\n",
              "      <td>2021-01-21</td>\n",
              "      <td>2021-01-21</td>\n",
              "      <td>2021-01-18</td>\n",
              "      <td>10.0</td>\n",
              "      <td>MALE</td>\n",
              "      <td>CC</td>\n",
              "      <td>Mississauga</td>\n",
              "      <td>No</td>\n",
              "      <td>43.647471</td>\n",
              "      <td>-79.708893</td>\n",
              "      <td>Not Resolved</td>\n",
              "    </tr>\n",
              "    <tr>\n",
              "      <th>4</th>\n",
              "      <td>2020-12-26</td>\n",
              "      <td>2020-12-28</td>\n",
              "      <td>2020-12-28</td>\n",
              "      <td>2020-12-26</td>\n",
              "      <td>60.0</td>\n",
              "      <td>MALE</td>\n",
              "      <td>OB</td>\n",
              "      <td>Windsor</td>\n",
              "      <td>Yes</td>\n",
              "      <td>42.308796</td>\n",
              "      <td>-83.033670</td>\n",
              "      <td>Resolved</td>\n",
              "    </tr>\n",
              "  </tbody>\n",
              "</table>\n",
              "</div>"
            ],
            "text/plain": [
              "  Accurate_Episode_Date  ...      Outcome1\n",
              "0            2020-03-30  ...         Fatal\n",
              "1            2021-01-22  ...  Not Resolved\n",
              "2            2020-03-24  ...      Resolved\n",
              "3            2021-01-18  ...  Not Resolved\n",
              "4            2020-12-26  ...      Resolved\n",
              "\n",
              "[5 rows x 12 columns]"
            ]
          },
          "metadata": {
            "tags": []
          },
          "execution_count": 22
        }
      ]
    },
    {
      "cell_type": "code",
      "metadata": {
        "id": "wtY5CAWuUiVM"
      },
      "source": [
        "rnn_df = covid_df.copy()"
      ],
      "execution_count": null,
      "outputs": []
    },
    {
      "cell_type": "code",
      "metadata": {
        "id": "LqhVo0dKUiVN"
      },
      "source": [
        "import datetime as dt\n",
        "import calendar\n",
        "def to_ksp_format(datetime):\n",
        "    year = datetime.year\n",
        "    day_from_jan_1 = (datetime - dt.datetime(year, 1, 1)).days\n",
        "    is_leap_year = int(calendar.isleap(year))\n",
        "    return year + (day_from_jan_1 - 0.5) / (365 + is_leap_year)\n",
        "covid_df['Accurate_Episode_Date'] = covid_df['Accurate_Episode_Date'].apply(to_ksp_format)\n",
        "covid_df['Case_Reported_Date'] = covid_df['Case_Reported_Date'].apply(to_ksp_format)\n",
        "covid_df['Test_Reported_Date'] = covid_df['Test_Reported_Date'].apply(to_ksp_format)\n",
        "covid_df['Specimen_Date'] = covid_df['Specimen_Date'].apply(to_ksp_format)"
      ],
      "execution_count": null,
      "outputs": []
    },
    {
      "cell_type": "code",
      "metadata": {
        "id": "rb9dwH8IUiVN"
      },
      "source": [
        "cat_col = ['Client_Gender', 'Case_AcquisitionInfo','Outbreak_Related']"
      ],
      "execution_count": null,
      "outputs": []
    },
    {
      "cell_type": "code",
      "metadata": {
        "id": "zdx6tuxJUiVO"
      },
      "source": [
        "covid_enc = pd.get_dummies(covid_df, columns = cat_col)"
      ],
      "execution_count": null,
      "outputs": []
    },
    {
      "cell_type": "code",
      "metadata": {
        "colab": {
          "base_uri": "https://localhost:8080/"
        },
        "id": "uIcKXYqZUiVO",
        "outputId": "9750db92-f78b-4499-ebac-edf07a8a2a5d"
      },
      "source": [
        "covid_enc.info()"
      ],
      "execution_count": null,
      "outputs": [
        {
          "output_type": "stream",
          "text": [
            "<class 'pandas.core.frame.DataFrame'>\n",
            "Int64Index: 14650 entries, 0 to 14859\n",
            "Data columns (total 21 columns):\n",
            " #   Column                                     Non-Null Count  Dtype  \n",
            "---  ------                                     --------------  -----  \n",
            " 0   Accurate_Episode_Date                      14650 non-null  float64\n",
            " 1   Case_Reported_Date                         14650 non-null  float64\n",
            " 2   Test_Reported_Date                         14650 non-null  float64\n",
            " 3   Specimen_Date                              14650 non-null  float64\n",
            " 4   Age_Group                                  14650 non-null  float64\n",
            " 5   Reporting_PHU_City                         14650 non-null  object \n",
            " 6   Reporting_PHU_Latitude                     14650 non-null  float64\n",
            " 7   Reporting_PHU_Longitude                    14650 non-null  float64\n",
            " 8   Outcome1                                   14650 non-null  object \n",
            " 9   Client_Gender_FEMALE                       14650 non-null  uint8  \n",
            " 10  Client_Gender_GENDER DIVERSE               14650 non-null  uint8  \n",
            " 11  Client_Gender_MALE                         14650 non-null  uint8  \n",
            " 12  Client_Gender_UNSPECIFIED                  14650 non-null  uint8  \n",
            " 13  Case_AcquisitionInfo_CC                    14650 non-null  uint8  \n",
            " 14  Case_AcquisitionInfo_MISSING INFORMATION   14650 non-null  uint8  \n",
            " 15  Case_AcquisitionInfo_NO KNOWN EPI LINK     14650 non-null  uint8  \n",
            " 16  Case_AcquisitionInfo_OB                    14650 non-null  uint8  \n",
            " 17  Case_AcquisitionInfo_TRAVEL                14650 non-null  uint8  \n",
            " 18  Case_AcquisitionInfo_UNSPECIFIED EPI LINK  14650 non-null  uint8  \n",
            " 19  Outbreak_Related_No                        14650 non-null  uint8  \n",
            " 20  Outbreak_Related_Yes                       14650 non-null  uint8  \n",
            "dtypes: float64(7), object(2), uint8(12)\n",
            "memory usage: 1.3+ MB\n"
          ],
          "name": "stdout"
        }
      ]
    },
    {
      "cell_type": "code",
      "metadata": {
        "id": "3t5G9dNeUiVP"
      },
      "source": [
        "target = covid_df['Outcome1']"
      ],
      "execution_count": null,
      "outputs": []
    },
    {
      "cell_type": "code",
      "metadata": {
        "id": "9iFFKWHJUiVP"
      },
      "source": [
        "covid_enc = covid_enc.drop(\"Outcome1\",axis=1)\n",
        "covid_enc = covid_enc.drop(\"Reporting_PHU_City\", axis = 1)\n",
        "covid_enc = covid_enc.drop(\"Client_Gender_GENDER DIVERSE\", axis = 1)"
      ],
      "execution_count": null,
      "outputs": []
    },
    {
      "cell_type": "markdown",
      "metadata": {
        "id": "WN7Kr7n8UiVQ"
      },
      "source": [
        "We have dropped 'Reporting_PHU_City' because it is a feature with very high cardinality, and features\n",
        "'Reporting_PHU_Latitude' and 'Reporting_PHU_Longitude' essentially provide the same information. This step improved the accuracy of models."
      ]
    },
    {
      "cell_type": "code",
      "metadata": {
        "id": "Ftc_Y1LoUiVR"
      },
      "source": [
        "scaler  = StandardScaler()\n",
        "covid_enc = scaler.fit_transform(covid_enc)"
      ],
      "execution_count": null,
      "outputs": []
    },
    {
      "cell_type": "code",
      "metadata": {
        "colab": {
          "base_uri": "https://localhost:8080/"
        },
        "id": "2nFynqPalBLy",
        "outputId": "29faa714-e58e-444d-c06f-dc6c8b864661"
      },
      "source": [
        "target.unique()"
      ],
      "execution_count": null,
      "outputs": [
        {
          "output_type": "execute_result",
          "data": {
            "text/plain": [
              "array(['Fatal', 'Not Resolved', 'Resolved'], dtype=object)"
            ]
          },
          "metadata": {
            "tags": []
          },
          "execution_count": 31
        }
      ]
    },
    {
      "cell_type": "code",
      "metadata": {
        "id": "093-s9HTUiVR"
      },
      "source": [
        "# encode outcome1 values as integers\n",
        "encoder = LabelEncoder()\n",
        "encoder.fit(target)\n",
        "Y = encoder.transform(target)"
      ],
      "execution_count": null,
      "outputs": []
    },
    {
      "cell_type": "code",
      "metadata": {
        "id": "WuLUhBsKh3Zp"
      },
      "source": [
        "from time import time\n",
        "val_performance = {}\n",
        "performance = {}\n",
        "run_time = {}"
      ],
      "execution_count": null,
      "outputs": []
    },
    {
      "cell_type": "markdown",
      "metadata": {
        "id": "zEuUODl-UiVS"
      },
      "source": [
        "### Baseline Neural Network"
      ]
    },
    {
      "cell_type": "code",
      "metadata": {
        "colab": {
          "base_uri": "https://localhost:8080/"
        },
        "id": "kZrdqtNRUiVS",
        "outputId": "3ba06866-0e3e-4e4c-d243-c1aae60d8ea0"
      },
      "source": [
        "from sklearn.model_selection import train_test_split\n",
        "X_train,X_test,Y_train,Y_test = train_test_split(covid_enc,Y,test_size=0.20,random_state=0)\n",
        "print(\"Test features have {0} records and validation features have {1} records.\".\\\n",
        "      format(X_train.shape[0], X_test.shape[0]))"
      ],
      "execution_count": null,
      "outputs": [
        {
          "output_type": "stream",
          "text": [
            "Test features have 11720 records and validation features have 2930 records.\n"
          ],
          "name": "stdout"
        }
      ]
    },
    {
      "cell_type": "code",
      "metadata": {
        "colab": {
          "base_uri": "https://localhost:8080/"
        },
        "id": "8D42D-mzUiVT",
        "outputId": "1f669b6e-fb7d-4ae8-f5a6-b78fc5f661cc"
      },
      "source": [
        "X_test,X_val,Y_test,Y_val = train_test_split(X_test,Y_test,test_size=0.50,random_state=0)\n",
        "print(\"Test features have {0} records and validation features have {1} records.\".\\\n",
        "      format(X_test.shape[0], X_val.shape[0]))"
      ],
      "execution_count": null,
      "outputs": [
        {
          "output_type": "stream",
          "text": [
            "Test features have 1465 records and validation features have 1465 records.\n"
          ],
          "name": "stdout"
        }
      ]
    },
    {
      "cell_type": "code",
      "metadata": {
        "id": "lw74CviYUiVT"
      },
      "source": [
        "# define baseline model\n",
        "def baseline_model():\n",
        "    # create model\n",
        "    n_features = X_train.shape[1]\n",
        "    model = Sequential()\n",
        "    model.add(Dense(60, activation='relu', kernel_initializer='he_normal',\n",
        "                    input_shape=(n_features,)))\n",
        "    model.add(Dense(30, activation='relu', kernel_initializer='he_normal'))\n",
        "    model.add(Dense(3, activation='softmax'))\n",
        "    # Compile model\n",
        "    model.compile(loss='sparse_categorical_crossentropy', optimizer='adam',\n",
        "                  metrics=['accuracy'])\n",
        "    return model"
      ],
      "execution_count": null,
      "outputs": []
    },
    {
      "cell_type": "code",
      "metadata": {
        "colab": {
          "base_uri": "https://localhost:8080/"
        },
        "id": "RWFZeztvUiVU",
        "outputId": "a6eda036-24b5-4098-c7ec-61919f750b62"
      },
      "source": [
        "# evaluate model with standardized dataset\n",
        "estimator = KerasClassifier(build_fn=baseline_model, epochs = 50, batch_size= 150, verbose=0)\n",
        "kfold = StratifiedKFold(n_splits=10, shuffle=True)\n",
        "results = cross_val_score(estimator, X_train, Y_train, cv=kfold)\n",
        "print(\"Baseline: %.2f%% (%.2f%%)\" % (results.mean()*100, results.std()*100))\n"
      ],
      "execution_count": null,
      "outputs": [
        {
          "output_type": "stream",
          "text": [
            "Baseline: 90.92% (0.55%)\n"
          ],
          "name": "stdout"
        }
      ]
    },
    {
      "cell_type": "code",
      "metadata": {
        "colab": {
          "base_uri": "https://localhost:8080/"
        },
        "id": "BcTaYPTcUiVU",
        "outputId": "c0e4747f-975e-4f28-9ba7-78f1b6bb11f5"
      },
      "source": [
        "# determine the number of input features\n",
        "n_features = X_train.shape[1]\n",
        "# define model\n",
        "model = Sequential()\n",
        "model.add(Dense(60, activation='relu', kernel_initializer='he_normal',\n",
        "                input_shape=(n_features,)))\n",
        "model.add(Dense(30, activation='relu', kernel_initializer='he_normal'))\n",
        "model.add(Dense(3, activation='softmax'))\n",
        "# compile the model\n",
        "model.compile(optimizer='adam', loss='sparse_categorical_crossentropy', metrics=['accuracy'])\n",
        "# fit the model\n",
        "t1 = time()\n",
        "model.fit(X_train, Y_train, epochs=150, batch_size=32, verbose=0)\n",
        "# evaluate the model\n",
        "loss, acc = model.evaluate(X_val, Y_val, verbose=0)\n",
        "t2 = time()\n",
        "print('Test Accuracy: %.3f' % acc)\n",
        "val_performance['Baseline'] = model.evaluate(X_val, Y_val, verbose=0)\n",
        "performance['Baseline'] = model.evaluate(X_test, Y_test, verbose=0)\n",
        "run_time['Baseline'] = t2 - t1\n"
      ],
      "execution_count": null,
      "outputs": [
        {
          "output_type": "stream",
          "text": [
            "Test Accuracy: 0.906\n"
          ],
          "name": "stdout"
        }
      ]
    },
    {
      "cell_type": "code",
      "metadata": {
        "colab": {
          "base_uri": "https://localhost:8080/"
        },
        "id": "rNd_udbvo0dX",
        "outputId": "edcac94c-29b4-4674-e583-6f60148a3400"
      },
      "source": [
        "from keras.utils.vis_utils import plot_model\n",
        "plot_model(model, to_file='model1.png', show_shapes=True, show_layer_names=True)\n",
        "model.summary()"
      ],
      "execution_count": null,
      "outputs": [
        {
          "output_type": "stream",
          "text": [
            "Model: \"sequential_10\"\n",
            "_________________________________________________________________\n",
            "Layer (type)                 Output Shape              Param #   \n",
            "=================================================================\n",
            "dense_30 (Dense)             (None, 60)                1140      \n",
            "_________________________________________________________________\n",
            "dense_31 (Dense)             (None, 30)                1830      \n",
            "_________________________________________________________________\n",
            "dense_32 (Dense)             (None, 3)                 93        \n",
            "=================================================================\n",
            "Total params: 3,063\n",
            "Trainable params: 3,063\n",
            "Non-trainable params: 0\n",
            "_________________________________________________________________\n"
          ],
          "name": "stdout"
        }
      ]
    },
    {
      "cell_type": "code",
      "metadata": {
        "colab": {
          "base_uri": "https://localhost:8080/"
        },
        "id": "L-DD-awsu1E9",
        "outputId": "b5749d1a-e796-4047-9b68-f4ce62c90033"
      },
      "source": [
        "# smaller model\n",
        "def create_smaller():\n",
        "  # create model\n",
        "  model = Sequential()\n",
        "  model.add(Dense(30, activation='relu', kernel_initializer='he_normal'))\n",
        "  model.add(Dense(3, activation='softmax'))\n",
        "  # Compile model\n",
        "  model.compile(optimizer='adam', loss='sparse_categorical_crossentropy', metrics=['accuracy'])\n",
        "  return model\n",
        "estimators = []\n",
        "estimators.append(('standardize', StandardScaler()))\n",
        "estimators.append(('mlp', KerasClassifier(build_fn=create_smaller, epochs=50,\n",
        "                                          batch_size=150, verbose=0)))\n",
        "pipeline = Pipeline(estimators)\n",
        "kfold = StratifiedKFold(n_splits=10, shuffle=True)\n",
        "results = cross_val_score(pipeline, X_train, Y_train, cv=kfold)\n",
        "print(\"Smaller: %.2f%% (%.2f%%)\" % (results.mean()*100, results.std()*100))"
      ],
      "execution_count": null,
      "outputs": [
        {
          "output_type": "stream",
          "text": [
            "Smaller: 90.59% (0.57%)\n"
          ],
          "name": "stdout"
        }
      ]
    },
    {
      "cell_type": "code",
      "metadata": {
        "colab": {
          "base_uri": "https://localhost:8080/"
        },
        "id": "fEW187-ru00f",
        "outputId": "75844f4a-995f-4d55-fb1e-ba50251fba85"
      },
      "source": [
        "# deeper model\n",
        "def create_deeper():\n",
        "  # create model\n",
        "  model = Sequential()\n",
        "  model.add(Dense(60, activation='relu', kernel_initializer='he_normal',\n",
        "                  input_shape=(n_features,)))\n",
        "  model.add(Dense(50, activation='relu', kernel_initializer='he_normal'))\n",
        "  model.add(Dense(40, activation='relu', kernel_initializer='he_normal'))\n",
        "  model.add(Dense(30, activation='relu', kernel_initializer='he_normal'))\n",
        "  model.add(Dense(20, activation='relu', kernel_initializer='he_normal'))\n",
        "  model.add(Dense(3, activation='softmax'))\n",
        "  # Compile model\n",
        "  model.compile(optimizer='adam', loss='sparse_categorical_crossentropy', metrics=['accuracy'])\n",
        "  return model\n",
        "estimators = []\n",
        "estimators.append(('standardize', StandardScaler()))\n",
        "estimators.append(('mlp', KerasClassifier(build_fn=create_deeper, epochs=50,\n",
        "                                          batch_size=150, verbose=0)))\n",
        "pipeline = Pipeline(estimators)\n",
        "kfold = StratifiedKFold(n_splits=10, shuffle=True)\n",
        "results = cross_val_score(pipeline, X_train, Y_train, cv=kfold)\n",
        "print(\"Deeper: %.2f%% (%.2f%%)\" % (results.mean()*100, results.std()*100))"
      ],
      "execution_count": null,
      "outputs": [
        {
          "output_type": "stream",
          "text": [
            "Deeper: 90.25% (0.79%)\n"
          ],
          "name": "stdout"
        }
      ]
    },
    {
      "cell_type": "markdown",
      "metadata": {
        "id": "IbL88aqGNk1c"
      },
      "source": [
        "### Regularization"
      ]
    },
    {
      "cell_type": "code",
      "metadata": {
        "colab": {
          "base_uri": "https://localhost:8080/"
        },
        "id": "xKyyxAM3NqHH",
        "outputId": "73290256-4c39-409f-c7af-86369a8a099f"
      },
      "source": [
        "from keras import regularizers\n",
        "\n",
        "# define model\n",
        "model = Sequential()\n",
        "model.add(Dense(60, activation='relu', kernel_regularizer=regularizers.l2(0.01),\n",
        "                input_shape=(n_features,)))\n",
        "model.add(Dense(30, activation='relu', kernel_regularizer=regularizers.l2(0.01)))\n",
        "model.add(Dense(3, activation='softmax'))\n",
        "# compile the model\n",
        "model.compile(optimizer='adam', loss='sparse_categorical_crossentropy', metrics=['accuracy'])\n",
        "# fit the model\n",
        "model.fit(X_train, Y_train, epochs=150, batch_size=32, verbose=0)\n",
        "# evaluate the model\n",
        "loss, acc = model.evaluate(X_test, Y_test, verbose=0)\n",
        "print('Test Accuracy: %.3f' % acc)"
      ],
      "execution_count": null,
      "outputs": [
        {
          "output_type": "stream",
          "text": [
            "Test Accuracy: 0.909\n"
          ],
          "name": "stdout"
        }
      ]
    },
    {
      "cell_type": "code",
      "metadata": {
        "colab": {
          "base_uri": "https://localhost:8080/"
        },
        "id": "fowdgIIQpK7i",
        "outputId": "809948b1-f6a2-4feb-b73d-fc2282f36e71"
      },
      "source": [
        "plot_model(model, to_file='model4.png', show_shapes=True, show_layer_names=True)\n",
        "model.summary()"
      ],
      "execution_count": null,
      "outputs": [
        {
          "output_type": "stream",
          "text": [
            "Model: \"sequential_31\"\n",
            "_________________________________________________________________\n",
            "Layer (type)                 Output Shape              Param #   \n",
            "=================================================================\n",
            "dense_113 (Dense)            (None, 60)                1140      \n",
            "_________________________________________________________________\n",
            "dense_114 (Dense)            (None, 30)                1830      \n",
            "_________________________________________________________________\n",
            "dense_115 (Dense)            (None, 3)                 93        \n",
            "=================================================================\n",
            "Total params: 3,063\n",
            "Trainable params: 3,063\n",
            "Non-trainable params: 0\n",
            "_________________________________________________________________\n"
          ],
          "name": "stdout"
        }
      ]
    },
    {
      "cell_type": "markdown",
      "metadata": {
        "id": "x-FShuqROlBe"
      },
      "source": [
        "Test accuracy improved a bit with regularization. Now, lets add dropout and early stopping to this model."
      ]
    },
    {
      "cell_type": "code",
      "metadata": {
        "colab": {
          "base_uri": "https://localhost:8080/"
        },
        "id": "ZgCvY2lJRP2F",
        "outputId": "bb3ea904-4c67-4bc7-87b9-729f33c0bb1f"
      },
      "source": [
        "# define model\n",
        "model = Sequential()\n",
        "model.add(Dense(60, activation='relu', kernel_regularizer=regularizers.l2(0.01),\n",
        "                input_shape=(n_features,)))\n",
        "#Dropout(0.25),\n",
        "model.add(Dense(30, activation='relu', kernel_regularizer=regularizers.l2(0.01)))\n",
        "model.add(Dense(3, activation='softmax'))\n",
        "# compile the model\n",
        "model.compile(optimizer='adam', loss='sparse_categorical_crossentropy', metrics=['accuracy'])\n",
        "# fit the model\n",
        "model.fit(X_train, Y_train, epochs=150, batch_size=32, verbose=0)\n",
        "# evaluate the model\n",
        "loss, acc = model.evaluate(X_test, Y_test, verbose=0)\n",
        "print('Test Accuracy: %.3f' % acc)"
      ],
      "execution_count": null,
      "outputs": [
        {
          "output_type": "stream",
          "text": [
            "Test Accuracy: 0.906\n"
          ],
          "name": "stdout"
        }
      ]
    },
    {
      "cell_type": "code",
      "metadata": {
        "colab": {
          "base_uri": "https://localhost:8080/"
        },
        "id": "Nu4nod1ipN1z",
        "outputId": "2cfcbcb6-7157-42fa-dc1f-0fac1a6466f3"
      },
      "source": [
        "plot_model(model, to_file='model5.png', show_shapes=True, show_layer_names=True)\n",
        "model.summary()"
      ],
      "execution_count": null,
      "outputs": [
        {
          "output_type": "stream",
          "text": [
            "Model: \"sequential_32\"\n",
            "_________________________________________________________________\n",
            "Layer (type)                 Output Shape              Param #   \n",
            "=================================================================\n",
            "dense_116 (Dense)            (None, 60)                1140      \n",
            "_________________________________________________________________\n",
            "dense_117 (Dense)            (None, 30)                1830      \n",
            "_________________________________________________________________\n",
            "dense_118 (Dense)            (None, 3)                 93        \n",
            "=================================================================\n",
            "Total params: 3,063\n",
            "Trainable params: 3,063\n",
            "Non-trainable params: 0\n",
            "_________________________________________________________________\n"
          ],
          "name": "stdout"
        }
      ]
    },
    {
      "cell_type": "markdown",
      "metadata": {
        "id": "ZY1qtIePRUxM"
      },
      "source": [
        "Accuracy dropped a little bit. So we will remove dropout and try early stopping."
      ]
    },
    {
      "cell_type": "code",
      "metadata": {
        "colab": {
          "base_uri": "https://localhost:8080/"
        },
        "id": "3NGm37qqOwAn",
        "outputId": "3f823126-f3d2-47d1-cc16-e072fe77ab99"
      },
      "source": [
        "from keras.layers.core import Dropout\n",
        "from keras.callbacks import EarlyStopping\n",
        "\n",
        "EarlyStopping(monitor='val_err', patience=5)\n",
        "# define model\n",
        "model = Sequential()\n",
        "model.add(Dense(60, activation='relu', kernel_regularizer=regularizers.l2(0.01),\n",
        "                input_shape=(n_features,)))\n",
        "#Dropout(0.25),\n",
        "model.add(Dense(30, activation='relu', kernel_regularizer=regularizers.l2(0.01)))\n",
        "model.add(Dense(3, activation='softmax'))\n",
        "# compile the model\n",
        "model.compile(optimizer='adam', loss='sparse_categorical_crossentropy', metrics=['accuracy'])\n",
        "#fit the model\n",
        "t1 = time()\n",
        "model.fit(X_train, Y_train, epochs=150, batch_size=32, verbose=0)\n",
        "# evaluate the model\n",
        "loss, acc = model.evaluate(X_test, Y_test, verbose=0)\n",
        "t2 = time()\n",
        "print('Test Accuracy: %.3f' % acc)\n",
        "\n",
        "val_performance['Regularized'] = model.evaluate(X_val, Y_val, verbose=0)\n",
        "performance['Regularized'] = model.evaluate(X_test, Y_test, verbose=0)\n",
        "run_time['Regularized'] = t2 - t1"
      ],
      "execution_count": null,
      "outputs": [
        {
          "output_type": "stream",
          "text": [
            "Test Accuracy: 0.908\n"
          ],
          "name": "stdout"
        }
      ]
    },
    {
      "cell_type": "code",
      "metadata": {
        "colab": {
          "base_uri": "https://localhost:8080/"
        },
        "id": "xCkfaN6epXC0",
        "outputId": "84b16f57-2bc7-4bcc-f1fa-68aee435b5a4"
      },
      "source": [
        "plot_model(model, to_file='model6.png', show_shapes=True, show_layer_names=True)\n",
        "model.summary()"
      ],
      "execution_count": null,
      "outputs": [
        {
          "output_type": "stream",
          "text": [
            "Model: \"sequential_33\"\n",
            "_________________________________________________________________\n",
            "Layer (type)                 Output Shape              Param #   \n",
            "=================================================================\n",
            "dense_119 (Dense)            (None, 60)                1140      \n",
            "_________________________________________________________________\n",
            "dense_120 (Dense)            (None, 30)                1830      \n",
            "_________________________________________________________________\n",
            "dense_121 (Dense)            (None, 3)                 93        \n",
            "=================================================================\n",
            "Total params: 3,063\n",
            "Trainable params: 3,063\n",
            "Non-trainable params: 0\n",
            "_________________________________________________________________\n"
          ],
          "name": "stdout"
        }
      ]
    },
    {
      "cell_type": "markdown",
      "metadata": {
        "id": "VmWMI58IRD-g"
      },
      "source": [
        "### Hyperparameter Tuning"
      ]
    },
    {
      "cell_type": "code",
      "metadata": {
        "id": "IgUTCtn0RJbm"
      },
      "source": [
        "from keras.optimizers import SGD\n",
        "epochs=50\n",
        "batch_size = 150\n",
        "learning_rate = 0.1\n",
        "decay_rate = learning_rate / epochs\n",
        "momentum = 0.8\n",
        "\n",
        "sgd = SGD(lr=learning_rate, momentum=momentum, decay=decay_rate, nesterov=False)"
      ],
      "execution_count": null,
      "outputs": []
    },
    {
      "cell_type": "markdown",
      "metadata": {
        "id": "uS6LzKMXSc2w"
      },
      "source": [
        "### Linear Model"
      ]
    },
    {
      "cell_type": "code",
      "metadata": {
        "id": "xDjURiXARy6Z"
      },
      "source": [
        "import tensorflow as tf\n",
        "\n",
        "# Linear Model\n",
        "input_dim = X_train.shape[1]\n",
        "lr_model = Sequential()\n",
        "lr_model.add(Dense(64, activation=tf.nn.relu, kernel_initializer='uniform',\n",
        "                input_dim = input_dim))\n",
        "lr_model.add(Dropout(0.1))\n",
        "lr_model.add(Dense(64, kernel_initializer='uniform', activation=tf.nn.relu))\n",
        "lr_model.add(Dense(3, kernel_initializer='uniform', activation=tf.nn.softmax))\n",
        "\n",
        "# compile the model\n",
        "lr_model.compile(loss='categorical_crossentropy',\n",
        "              optimizer=sgd,\n",
        "              metrics=['accuracy'])"
      ],
      "execution_count": null,
      "outputs": []
    },
    {
      "cell_type": "code",
      "metadata": {
        "id": "ugkBnbsKU-DG"
      },
      "source": [
        "y_train = tf.keras.utils.to_categorical(Y_train, 3)\n",
        "y_test = tf.keras.utils.to_categorical(Y_test, 3)\n",
        "y_val = tf.keras.utils.to_categorical(Y_val, 3)"
      ],
      "execution_count": null,
      "outputs": []
    },
    {
      "cell_type": "code",
      "metadata": {
        "id": "ubEIA1mUS22M"
      },
      "source": [
        "#%%time\n",
        "# Fit the model\n",
        "#batch_size = int(input_dim/100)\n",
        "t1 = time()\n",
        "lr_model_history = lr_model.fit(X_train, y_train,\n",
        "                    batch_size=batch_size,\n",
        "                    epochs=epochs,\n",
        "                    verbose=0,\n",
        "                    validation_data=(X_test, y_test))\n",
        "t2 = time()\n",
        "val_performance['Uniform'] = lr_model.evaluate(X_val, y_val, verbose=0)\n",
        "performance['Uniform'] = lr_model.evaluate(X_test, y_test, verbose=0)\n",
        "run_time['Uniform'] = t2 - t1"
      ],
      "execution_count": null,
      "outputs": []
    },
    {
      "cell_type": "code",
      "metadata": {
        "colab": {
          "base_uri": "https://localhost:8080/"
        },
        "id": "XXTCfiGzparH",
        "outputId": "f7d5fccc-b0bf-42f4-e105-9521b4542d4d"
      },
      "source": [
        "plot_model(lr_model, to_file='model6.png', show_shapes=True, show_layer_names=True)\n",
        "lr_model.summary()"
      ],
      "execution_count": null,
      "outputs": [
        {
          "output_type": "stream",
          "text": [
            "Model: \"sequential_34\"\n",
            "_________________________________________________________________\n",
            "Layer (type)                 Output Shape              Param #   \n",
            "=================================================================\n",
            "dense_122 (Dense)            (None, 64)                1216      \n",
            "_________________________________________________________________\n",
            "dropout (Dropout)            (None, 64)                0         \n",
            "_________________________________________________________________\n",
            "dense_123 (Dense)            (None, 64)                4160      \n",
            "_________________________________________________________________\n",
            "dense_124 (Dense)            (None, 3)                 195       \n",
            "=================================================================\n",
            "Total params: 5,571\n",
            "Trainable params: 5,571\n",
            "Non-trainable params: 0\n",
            "_________________________________________________________________\n"
          ],
          "name": "stdout"
        }
      ]
    },
    {
      "cell_type": "code",
      "metadata": {
        "colab": {
          "base_uri": "https://localhost:8080/",
          "height": 406
        },
        "id": "ZNuaty4PVyOp",
        "outputId": "b3dcd6ef-88c2-453a-d098-f58da703b7d3"
      },
      "source": [
        "# Plot the loss function\n",
        "fig, ax = plt.subplots(1, 1, figsize=(10,6))\n",
        "ax.plot(np.sqrt(lr_model_history.history['loss']), 'r', label='train')\n",
        "ax.plot(np.sqrt(lr_model_history.history['val_loss']), 'b' ,label='val')\n",
        "ax.set_xlabel(r'Epoch', fontsize=20)\n",
        "ax.set_ylabel(r'Loss', fontsize=20)\n",
        "ax.legend()\n",
        "ax.tick_params(labelsize=20)"
      ],
      "execution_count": null,
      "outputs": [
        {
          "output_type": "display_data",
          "data": {
            "image/png": "[encoded data removed]",
            "text/plain": [
              "<Figure size 720x432 with 1 Axes>"
            ]
          },
          "metadata": {
            "tags": [],
            "needs_background": "light"
          }
        }
      ]
    },
    {
      "cell_type": "code",
      "metadata": {
        "colab": {
          "base_uri": "https://localhost:8080/",
          "height": 406
        },
        "id": "QIP8VvYSV5qU",
        "outputId": "94e1e19d-6ca0-47a2-dfd7-3f11a366b288"
      },
      "source": [
        "# Plot the accuracy\n",
        "fig, ax = plt.subplots(1, 1, figsize=(10,6))\n",
        "ax.plot(np.sqrt(lr_model_history.history['accuracy']), 'r', label='train')\n",
        "ax.plot(np.sqrt(lr_model_history.history['val_accuracy']), 'b' ,label='val')\n",
        "ax.set_xlabel(r'Epoch', fontsize=20)\n",
        "ax.set_ylabel(r'Accuracy', fontsize=20)\n",
        "ax.legend()\n",
        "ax.tick_params(labelsize=20)"
      ],
      "execution_count": null,
      "outputs": [
        {
          "output_type": "display_data",
          "data": {
            "image/png": "[encoded data removed]",
            "text/plain": [
              "<Figure size 720x432 with 1 Axes>"
            ]
          },
          "metadata": {
            "tags": [],
            "needs_background": "light"
          }
        }
      ]
    },
    {
      "cell_type": "markdown",
      "metadata": {
        "id": "M9cj0Ef7X5UM"
      },
      "source": [
        "### Learning rate scheduler"
      ]
    },
    {
      "cell_type": "code",
      "metadata": {
        "id": "n1l6Jnw5XPi-"
      },
      "source": [
        "epochs = 50\n",
        "learning_rate = 0.1 # initial learning rate\n",
        "decay_rate = 0.1\n",
        "momentum = 0.8\n",
        "\n",
        "# define the optimizer function\n",
        "sgd = SGD(lr=learning_rate, momentum=momentum, decay=decay_rate, nesterov=False)"
      ],
      "execution_count": null,
      "outputs": []
    },
    {
      "cell_type": "code",
      "metadata": {
        "id": "QFsPNcS1YNqX"
      },
      "source": [
        "input_dim = X_train.shape[1]\n",
        "batch_size = 150\n",
        "\n",
        "# build the model\n",
        "exponential_decay_model = Sequential()\n",
        "exponential_decay_model.add(Dense(64, activation=tf.nn.relu, kernel_initializer='uniform',\n",
        "                                  input_dim = input_dim))\n",
        "exponential_decay_model.add(Dropout(0.1))\n",
        "exponential_decay_model.add(Dense(64, kernel_initializer='uniform', activation=tf.nn.relu))\n",
        "exponential_decay_model.add(Dense(3, kernel_initializer='uniform', activation=tf.nn.softmax))\n",
        "\n",
        "# compile the model\n",
        "exponential_decay_model.compile(loss='categorical_crossentropy',\n",
        "                                optimizer=sgd,\n",
        "                                metrics=['accuracy'])"
      ],
      "execution_count": null,
      "outputs": []
    },
    {
      "cell_type": "code",
      "metadata": {
        "id": "kqVM0eAtYxSX"
      },
      "source": [
        "from keras.callbacks import LearningRateScheduler\n",
        "from keras.callbacks import History\n",
        "# define the learning rate change\n",
        "def exp_decay(epoch):\n",
        "    lrate = learning_rate * np.exp(-decay_rate*epoch)\n",
        "    return lrate\n",
        "\n",
        "# learning schedule callback\n",
        "loss_history = History()\n",
        "lr_rate = LearningRateScheduler(exp_decay)\n",
        "callbacks_list = [loss_history, lr_rate]"
      ],
      "execution_count": null,
      "outputs": []
    },
    {
      "cell_type": "code",
      "metadata": {
        "id": "BetvkbqxY4c2"
      },
      "source": [
        "# you invoke the LearningRateScheduler during the .fit() phase\n",
        "t1 = time()\n",
        "exponential_decay_model_history = exponential_decay_model.fit(X_train, y_train,\n",
        "                                    batch_size=batch_size,\n",
        "                                    epochs=epochs,\n",
        "                                    callbacks=callbacks_list,\n",
        "                                    verbose=0,\n",
        "                                    validation_data=(X_test, y_test))\n",
        "t2 = time()\n",
        "val_performance['Exponential'] = model.evaluate(X_val, Y_val, verbose=0)\n",
        "performance['Exponential'] = model.evaluate(X_test, Y_test, verbose=0)\n",
        "run_time['Exponential'] = t2 - t1"
      ],
      "execution_count": null,
      "outputs": []
    },
    {
      "cell_type": "code",
      "metadata": {
        "colab": {
          "base_uri": "https://localhost:8080/"
        },
        "id": "0KPkrlHHplwP",
        "outputId": "4bd8a616-0910-4f96-dcea-deb7851b36b5"
      },
      "source": [
        "plot_model(model, to_file='model7.png', show_shapes=True, show_layer_names=True)\n",
        "model.summary()"
      ],
      "execution_count": null,
      "outputs": [
        {
          "output_type": "stream",
          "text": [
            "Model: \"sequential_33\"\n",
            "_________________________________________________________________\n",
            "Layer (type)                 Output Shape              Param #   \n",
            "=================================================================\n",
            "dense_119 (Dense)            (None, 60)                1140      \n",
            "_________________________________________________________________\n",
            "dense_120 (Dense)            (None, 30)                1830      \n",
            "_________________________________________________________________\n",
            "dense_121 (Dense)            (None, 3)                 93        \n",
            "=================================================================\n",
            "Total params: 3,063\n",
            "Trainable params: 3,063\n",
            "Non-trainable params: 0\n",
            "_________________________________________________________________\n"
          ],
          "name": "stdout"
        }
      ]
    },
    {
      "cell_type": "code",
      "metadata": {
        "colab": {
          "base_uri": "https://localhost:8080/",
          "height": 413
        },
        "id": "AxvMkkNCZVSA",
        "outputId": "2de361cf-eb98-47e7-c3aa-fb1bafa84503"
      },
      "source": [
        "# Plot the loss function\n",
        "fig, ax = plt.subplots(1, 1, figsize=(10,6))\n",
        "ax.plot(np.sqrt(exponential_decay_model_history.history['loss']), 'r', label='train')\n",
        "ax.plot(np.sqrt(exponential_decay_model_history.history['val_loss']), 'b' ,label='val')\n",
        "ax.set_xlabel(r'Epoch', fontsize=20)\n",
        "ax.set_ylabel(r'Loss', fontsize=20)\n",
        "ax.legend()\n",
        "ax.tick_params(labelsize=20)"
      ],
      "execution_count": null,
      "outputs": [
        {
          "output_type": "display_data",
          "data": {
            "image/png": "[encoded data removed]",
            "text/plain": [
              "<Figure size 720x432 with 1 Axes>"
            ]
          },
          "metadata": {
            "tags": [],
            "needs_background": "light"
          }
        }
      ]
    },
    {
      "cell_type": "code",
      "metadata": {
        "colab": {
          "base_uri": "https://localhost:8080/",
          "height": 408
        },
        "id": "6lKi6tXvZ55p",
        "outputId": "611bf6a6-4f80-4387-f71e-30461c6e23f4"
      },
      "source": [
        "# Plot the accuracy\n",
        "fig, ax = plt.subplots(1, 1, figsize=(10,6))\n",
        "ax.plot(np.sqrt(exponential_decay_model_history.history['accuracy']), 'r', label='train')\n",
        "ax.plot(np.sqrt(exponential_decay_model_history.history['val_accuracy']), 'b' ,label='val')\n",
        "ax.set_xlabel(r'Epoch', fontsize=20)\n",
        "ax.set_ylabel(r'Accuracy', fontsize=20)\n",
        "ax.legend()\n",
        "ax.tick_params(labelsize=20)"
      ],
      "execution_count": null,
      "outputs": [
        {
          "output_type": "display_data",
          "data": {
            "image/png": "[encoded data removed]",
            "text/plain": [
              "<Figure size 720x432 with 1 Axes>"
            ]
          },
          "metadata": {
            "tags": [],
            "needs_background": "light"
          }
        }
      ]
    },
    {
      "cell_type": "markdown",
      "metadata": {
        "id": "isqe0xpKa5Si"
      },
      "source": [
        "### Optimization function"
      ]
    },
    {
      "cell_type": "code",
      "metadata": {
        "id": "VKYGHWd8a3tc"
      },
      "source": [
        "from keras.optimizers import RMSprop\n",
        "model = Sequential()\n",
        "model.add(Dense(64, activation=tf.nn.relu, kernel_initializer='uniform',\n",
        "                input_dim = input_dim)) # fully-connected layer with 64 hidden units\n",
        "model.add(Dropout(0.1))\n",
        "model.add(Dense(64, kernel_initializer='uniform', activation=tf.nn.relu))\n",
        "model.add(Dense(3, kernel_initializer='uniform', activation=tf.nn.softmax))\n",
        "\n",
        "# defining the parameters for RMSprop (I used the keras defaults here)\n",
        "rms = RMSprop(lr=0.001, rho=0.9, epsilon=None, decay=0.0)\n",
        "\n",
        "model.compile(loss='sparse_categorical_crossentropy',\n",
        "              optimizer=rms,\n",
        "              metrics=['accuracy'])"
      ],
      "execution_count": null,
      "outputs": []
    },
    {
      "cell_type": "code",
      "metadata": {
        "id": "g65mUUhca-tx"
      },
      "source": [
        "batch_size = 100\n",
        "epochs = 60\n",
        "t1 = time()\n",
        "model_history = model.fit(X_train, Y_train,\n",
        "                    batch_size=batch_size,\n",
        "                    epochs=epochs,\n",
        "                    verbose=0,\n",
        "                    validation_data=(X_test, Y_test))\n",
        "t2 = time()\n",
        "val_performance['RMSprop'] = model.evaluate(X_val, Y_val, verbose=0)\n",
        "performance['RMSprop'] = model.evaluate(X_test, Y_test, verbose=0)\n",
        "run_time['RMSprop'] = t2 - t1"
      ],
      "execution_count": null,
      "outputs": []
    },
    {
      "cell_type": "code",
      "metadata": {
        "colab": {
          "base_uri": "https://localhost:8080/"
        },
        "id": "meCuPUzdpusv",
        "outputId": "fa7977a4-650d-4eb8-9f17-74949a9fcfe8"
      },
      "source": [
        "plot_model(model, to_file='model8.png', show_shapes=True, show_layer_names=True)\n",
        "model.summary()"
      ],
      "execution_count": null,
      "outputs": [
        {
          "output_type": "stream",
          "text": [
            "Model: \"sequential_36\"\n",
            "_________________________________________________________________\n",
            "Layer (type)                 Output Shape              Param #   \n",
            "=================================================================\n",
            "dense_128 (Dense)            (None, 64)                1216      \n",
            "_________________________________________________________________\n",
            "dropout_2 (Dropout)          (None, 64)                0         \n",
            "_________________________________________________________________\n",
            "dense_129 (Dense)            (None, 64)                4160      \n",
            "_________________________________________________________________\n",
            "dense_130 (Dense)            (None, 3)                 195       \n",
            "=================================================================\n",
            "Total params: 5,571\n",
            "Trainable params: 5,571\n",
            "Non-trainable params: 0\n",
            "_________________________________________________________________\n"
          ],
          "name": "stdout"
        }
      ]
    },
    {
      "cell_type": "code",
      "metadata": {
        "colab": {
          "base_uri": "https://localhost:8080/"
        },
        "id": "UFV03dx9bKxp",
        "outputId": "c88f5b18-1349-45c9-ffef-2a7be37b8258"
      },
      "source": [
        "score = model.evaluate(X_test, Y_test, verbose=0)\n",
        "print('Test loss:', score[0])\n",
        "print('Test accuracy:', score[1])"
      ],
      "execution_count": null,
      "outputs": [
        {
          "output_type": "stream",
          "text": [
            "Test loss: 0.30744668841362\n",
            "Test accuracy: 0.9010238647460938\n"
          ],
          "name": "stdout"
        }
      ]
    },
    {
      "cell_type": "code",
      "metadata": {
        "colab": {
          "base_uri": "https://localhost:8080/",
          "height": 409
        },
        "id": "yXiahIj3bVVi",
        "outputId": "220935e0-0da3-401e-f944-557015486602"
      },
      "source": [
        "fig, ax = plt.subplots(1, 1, figsize=(10,6))\n",
        "ax.plot(np.sqrt(model_history.history['accuracy']), 'r', label='train_acc')\n",
        "ax.plot(np.sqrt(model_history.history['val_accuracy']), 'b' ,label='val_acc')\n",
        "ax.set_xlabel(r'Epoch', fontsize=20)\n",
        "ax.set_ylabel(r'Accuracy', fontsize=20)\n",
        "ax.legend()\n",
        "ax.tick_params(labelsize=20)"
      ],
      "execution_count": null,
      "outputs": [
        {
          "output_type": "display_data",
          "data": {
            "image/png": "[encoded data removed]",
            "text/plain": [
              "<Figure size 720x432 with 1 Axes>"
            ]
          },
          "metadata": {
            "tags": [],
            "needs_background": "light"
          }
        }
      ]
    },
    {
      "cell_type": "code",
      "metadata": {
        "colab": {
          "base_uri": "https://localhost:8080/",
          "height": 408
        },
        "id": "-v2Kmog3bZbk",
        "outputId": "cd589723-0a25-432f-abd8-788d380addf9"
      },
      "source": [
        "fig, ax = plt.subplots(1, 1, figsize=(10,6))\n",
        "ax.plot(np.sqrt(model_history.history['loss']), 'r', label='train')\n",
        "ax.plot(np.sqrt(model_history.history['val_loss']), 'b' ,label='val')\n",
        "ax.set_xlabel(r'Epoch', fontsize=20)\n",
        "ax.set_ylabel(r'Loss', fontsize=20)\n",
        "ax.legend()\n",
        "ax.tick_params(labelsize=20)"
      ],
      "execution_count": null,
      "outputs": [
        {
          "output_type": "display_data",
          "data": {
            "image/png": "[encoded data removed]",
            "text/plain": [
              "<Figure size 720x432 with 1 Axes>"
            ]
          },
          "metadata": {
            "tags": [],
            "needs_background": "light"
          }
        }
      ]
    },
    {
      "cell_type": "markdown",
      "metadata": {
        "id": "PBLSV0xtaghj"
      },
      "source": [
        "### Grid Search Deep Learning Model Parameters"
      ]
    },
    {
      "cell_type": "code",
      "metadata": {
        "id": "ZVGQfkbUUiVV"
      },
      "source": [
        "# Function to create model, required for KerasClassifier\n",
        "def create_model(optimizer='rmsprop', init='glorot_uniform'):\n",
        "\t# create model\n",
        "  model = Sequential()\n",
        "  model.add(Dense(60, activation='relu', input_shape=(n_features,)))\n",
        "  model.add(Dense(30, activation='relu'))\n",
        "  model.add(Dense(3, activation='softmax'))\n",
        "  model.add( keras.layers.Flatten())\n",
        "\t# Compile model\n",
        "  model.compile(loss='sparse_categorical_crossentropy', optimizer=optimizer,\n",
        "                metrics=['accuracy'])\n",
        "  return model"
      ],
      "execution_count": null,
      "outputs": []
    },
    {
      "cell_type": "code",
      "metadata": {
        "id": "-ggBS-_gauN6"
      },
      "source": [
        "# fix random seed for reproducibility\n",
        "seed = 7\n",
        "np.random.seed(seed)"
      ],
      "execution_count": null,
      "outputs": []
    },
    {
      "cell_type": "code",
      "metadata": {
        "id": "EW08fL7za5WK"
      },
      "source": [
        "from sklearn.model_selection import GridSearchCV\n",
        "# create model\n",
        "model = KerasClassifier(build_fn=create_model, verbose=0)\n",
        "# grid search epochs, batch size and optimizer\n",
        "#optimizers = ['rmsprop', 'adam', 'sgd']\n",
        "init = ['glorot_uniform', 'hr_normal', 'uniform']\n",
        "epochs = [50,70]\n",
        "batches = [140, 170, 250]\n",
        "param_grid = dict( epochs=epochs, batch_size=batches, init=init)\n",
        "grid = GridSearchCV(estimator=model, param_grid=param_grid)\n",
        "grid_result = grid.fit(X_train, Y_train)"
      ],
      "execution_count": null,
      "outputs": []
    },
    {
      "cell_type": "code",
      "metadata": {
        "colab": {
          "base_uri": "https://localhost:8080/"
        },
        "id": "BCumBefabNg-",
        "outputId": "2df55def-32db-412d-ebd7-eaa5c6fec077"
      },
      "source": [
        "# summarize results\n",
        "print(\"Best: %f using %s\" % (grid_result.best_score_, grid_result.best_params_))\n",
        "means = grid_result.cv_results_['mean_test_score']\n",
        "stds = grid_result.cv_results_['std_test_score']\n",
        "params = grid_result.cv_results_['params']\n",
        "for mean, stdev, param in zip(means, stds, params):\n",
        "\tprint(\"%f (%f) with: %r\" % (mean, stdev, param))"
      ],
      "execution_count": null,
      "outputs": [
        {
          "output_type": "stream",
          "text": [
            "Best: 0.911860 using {'batch_size': 140, 'epochs': 70, 'init': 'uniform'}\n",
            "0.910324 (0.004412) with: {'batch_size': 140, 'epochs': 50, 'init': 'glorot_uniform'}\n",
            "0.908959 (0.006601) with: {'batch_size': 140, 'epochs': 50, 'init': 'hr_normal'}\n",
            "0.910751 (0.004261) with: {'batch_size': 140, 'epochs': 50, 'init': 'uniform'}\n",
            "0.910922 (0.003723) with: {'batch_size': 140, 'epochs': 70, 'init': 'glorot_uniform'}\n",
            "0.910751 (0.001934) with: {'batch_size': 140, 'epochs': 70, 'init': 'hr_normal'}\n",
            "0.911860 (0.004228) with: {'batch_size': 140, 'epochs': 70, 'init': 'uniform'}\n",
            "0.903925 (0.007686) with: {'batch_size': 170, 'epochs': 50, 'init': 'glorot_uniform'}\n",
            "0.904096 (0.007090) with: {'batch_size': 170, 'epochs': 50, 'init': 'hr_normal'}\n",
            "0.900768 (0.009753) with: {'batch_size': 170, 'epochs': 50, 'init': 'uniform'}\n",
            "0.901962 (0.008453) with: {'batch_size': 170, 'epochs': 70, 'init': 'glorot_uniform'}\n",
            "0.905461 (0.007018) with: {'batch_size': 170, 'epochs': 70, 'init': 'hr_normal'}\n",
            "0.905546 (0.006145) with: {'batch_size': 170, 'epochs': 70, 'init': 'uniform'}\n",
            "0.909215 (0.004614) with: {'batch_size': 250, 'epochs': 50, 'init': 'glorot_uniform'}\n",
            "0.910580 (0.003626) with: {'batch_size': 250, 'epochs': 50, 'init': 'hr_normal'}\n",
            "0.909642 (0.004510) with: {'batch_size': 250, 'epochs': 50, 'init': 'uniform'}\n",
            "0.908532 (0.004088) with: {'batch_size': 250, 'epochs': 70, 'init': 'glorot_uniform'}\n",
            "0.907850 (0.001294) with: {'batch_size': 250, 'epochs': 70, 'init': 'hr_normal'}\n",
            "0.908874 (0.005560) with: {'batch_size': 250, 'epochs': 70, 'init': 'uniform'}\n"
          ],
          "name": "stdout"
        }
      ]
    },
    {
      "cell_type": "code",
      "metadata": {
        "id": "JGlUN5z63lJ_"
      },
      "source": [
        "t_model = Sequential()\n",
        "t_model.add(Dense(60, kernel_initializer='uniform', activation='relu',\n",
        "                  input_shape=(n_features,)))\n",
        "t_model.add(Dense(30, kernel_initializer='uniform', activation='relu'))\n",
        "t_model.add(Dense(3, kernel_initializer='uniform', activation='softmax'))\n",
        "t_model.add( keras.layers.Flatten())\n",
        "# Compile model\n",
        "t_model.compile(loss='sparse_categorical_crossentropy', optimizer='adam', metrics=['accuracy'])"
      ],
      "execution_count": null,
      "outputs": []
    },
    {
      "cell_type": "code",
      "metadata": {
        "id": "5wbFOvozdK6O"
      },
      "source": [
        "batch_size = 140\n",
        "epochs = 50\n",
        "t1 = time()\n",
        "model_history = t_model.fit(X_train, Y_train,\n",
        "                    batch_size=batch_size,\n",
        "                    epochs=epochs,\n",
        "                    verbose=0,\n",
        "                    validation_data=(X_test, Y_test))\n",
        "t2 = time()\n",
        "val_performance['HyperTuned'] = t_model.evaluate(X_val, Y_val, verbose=0)\n",
        "performance['HyperTuned'] = t_model.evaluate(X_test, Y_test, verbose=0)\n",
        "run_time['HyperTuned'] = t2 - t1"
      ],
      "execution_count": null,
      "outputs": []
    },
    {
      "cell_type": "code",
      "metadata": {
        "colab": {
          "base_uri": "https://localhost:8080/"
        },
        "id": "gC_K_ottpz7A",
        "outputId": "fc738f4f-da6b-404f-9e34-b444468f04dc"
      },
      "source": [
        "plot_model(t_model, to_file='model9.png', show_shapes=True, show_layer_names=True)\n",
        "t_model.summary()"
      ],
      "execution_count": null,
      "outputs": [
        {
          "output_type": "stream",
          "text": [
            "Model: \"sequential_128\"\n",
            "_________________________________________________________________\n",
            "Layer (type)                 Output Shape              Param #   \n",
            "=================================================================\n",
            "dense_404 (Dense)            (None, 60)                1140      \n",
            "_________________________________________________________________\n",
            "dense_405 (Dense)            (None, 30)                1830      \n",
            "_________________________________________________________________\n",
            "dense_406 (Dense)            (None, 3)                 93        \n",
            "_________________________________________________________________\n",
            "flatten_91 (Flatten)         (None, 3)                 0         \n",
            "=================================================================\n",
            "Total params: 3,063\n",
            "Trainable params: 3,063\n",
            "Non-trainable params: 0\n",
            "_________________________________________________________________\n"
          ],
          "name": "stdout"
        }
      ]
    },
    {
      "cell_type": "code",
      "metadata": {
        "colab": {
          "base_uri": "https://localhost:8080/",
          "height": 406
        },
        "id": "qLZPyMvoeELD",
        "outputId": "5f63c9e3-eaf4-498f-f8b2-62c11ce89d3f"
      },
      "source": [
        "fig, ax = plt.subplots(1, 1, figsize=(10,6))\n",
        "ax.plot(np.sqrt(model_history.history['accuracy']), 'r', label='train_acc')\n",
        "ax.plot(np.sqrt(model_history.history['val_accuracy']), 'b' ,label='val_acc')\n",
        "ax.set_xlabel(r'Epoch', fontsize=20)\n",
        "ax.set_ylabel(r'Accuracy', fontsize=20)\n",
        "ax.legend()\n",
        "ax.tick_params(labelsize=20)"
      ],
      "execution_count": null,
      "outputs": [
        {
          "output_type": "display_data",
          "data": {
            "image/png": "[encoded data removed]",
            "text/plain": [
              "<Figure size 720x432 with 1 Axes>"
            ]
          },
          "metadata": {
            "tags": [],
            "needs_background": "light"
          }
        }
      ]
    },
    {
      "cell_type": "code",
      "metadata": {
        "colab": {
          "base_uri": "https://localhost:8080/",
          "height": 406
        },
        "id": "-ImxHNl-eKWL",
        "outputId": "004fbe71-48fd-49a6-9758-cb2bf55d329e"
      },
      "source": [
        "fig, ax = plt.subplots(1, 1, figsize=(10,6))\n",
        "ax.plot(np.sqrt(model_history.history['loss']), 'r', label='train')\n",
        "ax.plot(np.sqrt(model_history.history['val_loss']), 'b' ,label='val')\n",
        "ax.set_xlabel(r'Epoch', fontsize=20)\n",
        "ax.set_ylabel(r'Loss', fontsize=20)\n",
        "ax.legend()\n",
        "ax.tick_params(labelsize=20)"
      ],
      "execution_count": null,
      "outputs": [
        {
          "output_type": "display_data",
          "data": {
            "image/png": "[encoded data removed]",
            "text/plain": [
              "<Figure size 720x432 with 1 Axes>"
            ]
          },
          "metadata": {
            "tags": [],
            "needs_background": "light"
          }
        }
      ]
    },
    {
      "cell_type": "code",
      "metadata": {
        "colab": {
          "base_uri": "https://localhost:8080/",
          "height": 279
        },
        "id": "zZ1NEkanJc0B",
        "outputId": "b48add65-20f7-476f-b615-a5b8668a945c"
      },
      "source": [
        "from sklearn.metrics import accuracy_score, classification_report, confusion_matrix\n",
        "y_pred = t_model.predict(X_test)\n",
        "y_pred = np.argmax(y_pred, axis=1)\n",
        "#plot confusion matrix\n",
        "results = {'y_Actual':Y_test, 'y_Predicted':y_pred}\n",
        "df_results = pd.DataFrame(results, columns=['y_Actual','y_Predicted'])\n",
        "confusion_matrix = pd.crosstab(df_results['y_Actual'], df_results['y_Predicted'], rownames=['Actual'], colnames=['Predicted'])\n",
        "sns.heatmap(confusion_matrix, annot=True, fmt='d')\n",
        "plt.show()"
      ],
      "execution_count": null,
      "outputs": [
        {
          "output_type": "display_data",
          "data": {
            "image/png": "[encoded data removed]",
            "text/plain": [
              "<Figure size 432x288 with 2 Axes>"
            ]
          },
          "metadata": {
            "tags": [],
            "needs_background": "light"
          }
        }
      ]
    },
    {
      "cell_type": "markdown",
      "metadata": {
        "id": "j_50WnyzV-uY"
      },
      "source": [
        "### Kaggle Submission"
      ]
    },
    {
      "cell_type": "code",
      "metadata": {
        "colab": {
          "base_uri": "https://localhost:8080/",
          "height": 224
        },
        "id": "bXRd7PZxV98I",
        "outputId": "9e1ab8db-3f46-429e-d514-eb6cfe1f6cbe"
      },
      "source": [
        "# Read CSV file into a data frame\n",
        "kaggle_df = pd.read_csv('COVID_dataset_Kaggle.csv')\n",
        "kaggle_df.head()"
      ],
      "execution_count": null,
      "outputs": [
        {
          "output_type": "execute_result",
          "data": {
            "text/html": [
              "<div>\n",
              "<style scoped>\n",
              "    .dataframe tbody tr th:only-of-type {\n",
              "        vertical-align: middle;\n",
              "    }\n",
              "\n",
              "    .dataframe tbody tr th {\n",
              "        vertical-align: top;\n",
              "    }\n",
              "\n",
              "    .dataframe thead th {\n",
              "        text-align: right;\n",
              "    }\n",
              "</style>\n",
              "<table border=\"1\" class=\"dataframe\">\n",
              "  <thead>\n",
              "    <tr style=\"text-align: right;\">\n",
              "      <th></th>\n",
              "      <th>id</th>\n",
              "      <th>Accurate_Episode_Date</th>\n",
              "      <th>Case_Reported_Date</th>\n",
              "      <th>Test_Reported_Date</th>\n",
              "      <th>Specimen_Date</th>\n",
              "      <th>Age_Group</th>\n",
              "      <th>Client_Gender</th>\n",
              "      <th>Case_AcquisitionInfo</th>\n",
              "      <th>Reporting_PHU_City</th>\n",
              "      <th>Outbreak_Related</th>\n",
              "      <th>Reporting_PHU_Latitude</th>\n",
              "      <th>Reporting_PHU_Longitude</th>\n",
              "    </tr>\n",
              "  </thead>\n",
              "  <tbody>\n",
              "    <tr>\n",
              "      <th>0</th>\n",
              "      <td>0</td>\n",
              "      <td>2020-07-03</td>\n",
              "      <td>2020-07-06</td>\n",
              "      <td>2020-07-06</td>\n",
              "      <td>2020-07-05</td>\n",
              "      <td>30s</td>\n",
              "      <td>MALE</td>\n",
              "      <td>CC</td>\n",
              "      <td>Mississauga</td>\n",
              "      <td>NaN</td>\n",
              "      <td>43.647471</td>\n",
              "      <td>-79.708893</td>\n",
              "    </tr>\n",
              "    <tr>\n",
              "      <th>1</th>\n",
              "      <td>1</td>\n",
              "      <td>2021-01-05</td>\n",
              "      <td>2021-01-13</td>\n",
              "      <td>2021-01-13</td>\n",
              "      <td>2021-01-13</td>\n",
              "      <td>80s</td>\n",
              "      <td>FEMALE</td>\n",
              "      <td>NO KNOWN EPI LINK</td>\n",
              "      <td>Peterborough</td>\n",
              "      <td>NaN</td>\n",
              "      <td>44.301632</td>\n",
              "      <td>-78.321347</td>\n",
              "    </tr>\n",
              "    <tr>\n",
              "      <th>2</th>\n",
              "      <td>2</td>\n",
              "      <td>2021-01-02</td>\n",
              "      <td>2021-01-07</td>\n",
              "      <td>2021-01-07</td>\n",
              "      <td>2021-01-06</td>\n",
              "      <td>60s</td>\n",
              "      <td>MALE</td>\n",
              "      <td>CC</td>\n",
              "      <td>Toronto</td>\n",
              "      <td>NaN</td>\n",
              "      <td>43.656591</td>\n",
              "      <td>-79.379358</td>\n",
              "    </tr>\n",
              "    <tr>\n",
              "      <th>3</th>\n",
              "      <td>3</td>\n",
              "      <td>2020-12-04</td>\n",
              "      <td>2020-12-05</td>\n",
              "      <td>2020-12-05</td>\n",
              "      <td>2020-12-04</td>\n",
              "      <td>70s</td>\n",
              "      <td>FEMALE</td>\n",
              "      <td>OB</td>\n",
              "      <td>Hamilton</td>\n",
              "      <td>Yes</td>\n",
              "      <td>43.257631</td>\n",
              "      <td>-79.871341</td>\n",
              "    </tr>\n",
              "    <tr>\n",
              "      <th>4</th>\n",
              "      <td>4</td>\n",
              "      <td>2021-01-17</td>\n",
              "      <td>2021-01-19</td>\n",
              "      <td>2021-01-19</td>\n",
              "      <td>2021-01-17</td>\n",
              "      <td>40s</td>\n",
              "      <td>MALE</td>\n",
              "      <td>MISSING INFORMATION</td>\n",
              "      <td>Toronto</td>\n",
              "      <td>NaN</td>\n",
              "      <td>43.656591</td>\n",
              "      <td>-79.379358</td>\n",
              "    </tr>\n",
              "  </tbody>\n",
              "</table>\n",
              "</div>"
            ],
            "text/plain": [
              "   id Accurate_Episode_Date  ... Reporting_PHU_Latitude Reporting_PHU_Longitude\n",
              "0   0            2020-07-03  ...              43.647471              -79.708893\n",
              "1   1            2021-01-05  ...              44.301632              -78.321347\n",
              "2   2            2021-01-02  ...              43.656591              -79.379358\n",
              "3   3            2020-12-04  ...              43.257631              -79.871341\n",
              "4   4            2021-01-17  ...              43.656591              -79.379358\n",
              "\n",
              "[5 rows x 12 columns]"
            ]
          },
          "metadata": {
            "tags": []
          },
          "execution_count": 82
        }
      ]
    },
    {
      "cell_type": "code",
      "metadata": {
        "colab": {
          "base_uri": "https://localhost:8080/"
        },
        "id": "52LbT0VwYLTj",
        "outputId": "a170e934-0de2-445e-9208-cfd12663f8da"
      },
      "source": [
        "kaggle_df.info()"
      ],
      "execution_count": null,
      "outputs": [
        {
          "output_type": "stream",
          "text": [
            "<class 'pandas.core.frame.DataFrame'>\n",
            "RangeIndex: 3704 entries, 0 to 3703\n",
            "Data columns (total 12 columns):\n",
            " #   Column                   Non-Null Count  Dtype  \n",
            "---  ------                   --------------  -----  \n",
            " 0   id                       3704 non-null   int64  \n",
            " 1   Accurate_Episode_Date    3704 non-null   object \n",
            " 2   Case_Reported_Date       3704 non-null   object \n",
            " 3   Test_Reported_Date       3654 non-null   object \n",
            " 4   Specimen_Date            3674 non-null   object \n",
            " 5   Age_Group                3704 non-null   object \n",
            " 6   Client_Gender            3704 non-null   object \n",
            " 7   Case_AcquisitionInfo     3704 non-null   object \n",
            " 8   Reporting_PHU_City       3704 non-null   object \n",
            " 9   Outbreak_Related         1488 non-null   object \n",
            " 10  Reporting_PHU_Latitude   3704 non-null   float64\n",
            " 11  Reporting_PHU_Longitude  3704 non-null   float64\n",
            "dtypes: float64(2), int64(1), object(9)\n",
            "memory usage: 347.4+ KB\n"
          ],
          "name": "stdout"
        }
      ]
    },
    {
      "cell_type": "code",
      "metadata": {
        "colab": {
          "base_uri": "https://localhost:8080/"
        },
        "id": "HQ_jpd_IdUZD",
        "outputId": "3083e7cc-c85d-457f-9af0-71d0e09ffbba"
      },
      "source": [
        "kaggle_df.size"
      ],
      "execution_count": null,
      "outputs": [
        {
          "output_type": "execute_result",
          "data": {
            "text/plain": [
              "44448"
            ]
          },
          "metadata": {
            "tags": []
          },
          "execution_count": 84
        }
      ]
    },
    {
      "cell_type": "markdown",
      "metadata": {
        "id": "Nhx7x2GkYLTp"
      },
      "source": [
        "### Covid Data Preprocessing"
      ]
    },
    {
      "cell_type": "code",
      "metadata": {
        "colab": {
          "base_uri": "https://localhost:8080/"
        },
        "id": "Lx0hU9gwYLTq",
        "outputId": "9e5d2c92-1fa1-4145-9a33-197ffe8dbbcb"
      },
      "source": [
        "kaggle_df.Age_Group.unique()"
      ],
      "execution_count": null,
      "outputs": [
        {
          "output_type": "execute_result",
          "data": {
            "text/plain": [
              "array(['30s', '80s', '60s', '70s', '40s', '90s', '20s', '<20', '50s'],\n",
              "      dtype=object)"
            ]
          },
          "metadata": {
            "tags": []
          },
          "execution_count": 85
        }
      ]
    },
    {
      "cell_type": "code",
      "metadata": {
        "id": "weJKoHdMYLTr"
      },
      "source": [
        "kaggle_df['Age_Group'] = kaggle_df['Age_Group'].map(age_mapping)"
      ],
      "execution_count": null,
      "outputs": []
    },
    {
      "cell_type": "code",
      "metadata": {
        "colab": {
          "base_uri": "https://localhost:8080/"
        },
        "id": "Y_jHL6fWYLTs",
        "outputId": "b5af67f1-5477-4dd5-fa2a-abe6a026d2a0"
      },
      "source": [
        "kaggle_df.Client_Gender.unique()"
      ],
      "execution_count": null,
      "outputs": [
        {
          "output_type": "execute_result",
          "data": {
            "text/plain": [
              "array(['MALE', 'FEMALE', 'UNSPECIFIED'], dtype=object)"
            ]
          },
          "metadata": {
            "tags": []
          },
          "execution_count": 87
        }
      ]
    },
    {
      "cell_type": "code",
      "metadata": {
        "colab": {
          "base_uri": "https://localhost:8080/"
        },
        "id": "PkkcnWPTYLTs",
        "outputId": "479c1705-1f89-4702-f935-957abf294527"
      },
      "source": [
        "kaggle_df.Case_AcquisitionInfo.unique()"
      ],
      "execution_count": null,
      "outputs": [
        {
          "output_type": "execute_result",
          "data": {
            "text/plain": [
              "array(['CC', 'NO KNOWN EPI LINK', 'OB', 'MISSING INFORMATION', 'TRAVEL',\n",
              "       'UNSPECIFIED EPI LINK'], dtype=object)"
            ]
          },
          "metadata": {
            "tags": []
          },
          "execution_count": 88
        }
      ]
    },
    {
      "cell_type": "code",
      "metadata": {
        "colab": {
          "base_uri": "https://localhost:8080/"
        },
        "id": "YumvRA_fYLTt",
        "outputId": "9cccd8b7-7e37-4543-fd0d-9337e64b85ca"
      },
      "source": [
        "kaggle_df.Outbreak_Related.unique()"
      ],
      "execution_count": null,
      "outputs": [
        {
          "output_type": "execute_result",
          "data": {
            "text/plain": [
              "array([nan, 'Yes'], dtype=object)"
            ]
          },
          "metadata": {
            "tags": []
          },
          "execution_count": 89
        }
      ]
    },
    {
      "cell_type": "code",
      "metadata": {
        "id": "38_VABzIYLTt"
      },
      "source": [
        "kaggle_df['Outbreak_Related'].fillna('No', inplace = True)"
      ],
      "execution_count": null,
      "outputs": []
    },
    {
      "cell_type": "code",
      "metadata": {
        "colab": {
          "base_uri": "https://localhost:8080/"
        },
        "id": "j7v2QQO-YLTu",
        "outputId": "7c9a9927-45a0-42f5-dbcd-1f8ad5216837"
      },
      "source": [
        "kaggle_df.isnull().sum()"
      ],
      "execution_count": null,
      "outputs": [
        {
          "output_type": "execute_result",
          "data": {
            "text/plain": [
              "id                          0\n",
              "Accurate_Episode_Date       0\n",
              "Case_Reported_Date          0\n",
              "Test_Reported_Date         50\n",
              "Specimen_Date              30\n",
              "Age_Group                   0\n",
              "Client_Gender               0\n",
              "Case_AcquisitionInfo        0\n",
              "Reporting_PHU_City          0\n",
              "Outbreak_Related            0\n",
              "Reporting_PHU_Latitude      0\n",
              "Reporting_PHU_Longitude     0\n",
              "dtype: int64"
            ]
          },
          "metadata": {
            "tags": []
          },
          "execution_count": 91
        }
      ]
    },
    {
      "cell_type": "code",
      "metadata": {
        "id": "3xzw13X6YLTu"
      },
      "source": [
        "kaggle_df = kaggle_df.fillna(method='ffill')"
      ],
      "execution_count": null,
      "outputs": []
    },
    {
      "cell_type": "code",
      "metadata": {
        "colab": {
          "base_uri": "https://localhost:8080/"
        },
        "id": "XNsCYDAaYLTv",
        "outputId": "4f3fc604-85ea-4aaf-a3b5-6282adda51c9"
      },
      "source": [
        "kaggle_df.nunique(axis=0)"
      ],
      "execution_count": null,
      "outputs": [
        {
          "output_type": "execute_result",
          "data": {
            "text/plain": [
              "id                         3704\n",
              "Accurate_Episode_Date       287\n",
              "Case_Reported_Date          275\n",
              "Test_Reported_Date          276\n",
              "Specimen_Date               275\n",
              "Age_Group                     9\n",
              "Client_Gender                 3\n",
              "Case_AcquisitionInfo          6\n",
              "Reporting_PHU_City           31\n",
              "Outbreak_Related              2\n",
              "Reporting_PHU_Latitude       31\n",
              "Reporting_PHU_Longitude      31\n",
              "dtype: int64"
            ]
          },
          "metadata": {
            "tags": []
          },
          "execution_count": 93
        }
      ]
    },
    {
      "cell_type": "code",
      "metadata": {
        "id": "CAXxhGskYLTv"
      },
      "source": [
        "kaggle_df['Accurate_Episode_Date'] = pd.to_datetime(kaggle_df['Accurate_Episode_Date'],\n",
        "                                                   infer_datetime_format=True, errors='coerce')\n",
        "kaggle_df['Case_Reported_Date'] = pd.to_datetime(kaggle_df['Case_Reported_Date'],\n",
        "                                                   infer_datetime_format=True, errors='coerce')\n",
        "kaggle_df['Test_Reported_Date'] = pd.to_datetime(kaggle_df['Test_Reported_Date'],\n",
        "                                                   infer_datetime_format=True, errors='coerce')\n",
        "kaggle_df['Specimen_Date'] = pd.to_datetime(kaggle_df['Specimen_Date'],\n",
        "                                                   infer_datetime_format=True, errors='coerce')"
      ],
      "execution_count": null,
      "outputs": []
    },
    {
      "cell_type": "code",
      "metadata": {
        "colab": {
          "base_uri": "https://localhost:8080/"
        },
        "id": "sUfpAhHKYLTw",
        "outputId": "7447d422-d405-41e4-c52f-b7f3c8c0c92c"
      },
      "source": [
        "kaggle_df.info()"
      ],
      "execution_count": null,
      "outputs": [
        {
          "output_type": "stream",
          "text": [
            "<class 'pandas.core.frame.DataFrame'>\n",
            "RangeIndex: 3704 entries, 0 to 3703\n",
            "Data columns (total 12 columns):\n",
            " #   Column                   Non-Null Count  Dtype         \n",
            "---  ------                   --------------  -----         \n",
            " 0   id                       3704 non-null   int64         \n",
            " 1   Accurate_Episode_Date    3704 non-null   datetime64[ns]\n",
            " 2   Case_Reported_Date       3704 non-null   datetime64[ns]\n",
            " 3   Test_Reported_Date       3704 non-null   datetime64[ns]\n",
            " 4   Specimen_Date            3704 non-null   datetime64[ns]\n",
            " 5   Age_Group                3704 non-null   int64         \n",
            " 6   Client_Gender            3704 non-null   object        \n",
            " 7   Case_AcquisitionInfo     3704 non-null   object        \n",
            " 8   Reporting_PHU_City       3704 non-null   object        \n",
            " 9   Outbreak_Related         3704 non-null   object        \n",
            " 10  Reporting_PHU_Latitude   3704 non-null   float64       \n",
            " 11  Reporting_PHU_Longitude  3704 non-null   float64       \n",
            "dtypes: datetime64[ns](4), float64(2), int64(2), object(4)\n",
            "memory usage: 347.4+ KB\n"
          ],
          "name": "stdout"
        }
      ]
    },
    {
      "cell_type": "code",
      "metadata": {
        "colab": {
          "base_uri": "https://localhost:8080/",
          "height": 224
        },
        "id": "9zvsrL7iYLTw",
        "outputId": "15da54dd-4b7d-4141-8fe0-16a4fbb5defb"
      },
      "source": [
        "kaggle_df.head()"
      ],
      "execution_count": null,
      "outputs": [
        {
          "output_type": "execute_result",
          "data": {
            "text/html": [
              "<div>\n",
              "<style scoped>\n",
              "    .dataframe tbody tr th:only-of-type {\n",
              "        vertical-align: middle;\n",
              "    }\n",
              "\n",
              "    .dataframe tbody tr th {\n",
              "        vertical-align: top;\n",
              "    }\n",
              "\n",
              "    .dataframe thead th {\n",
              "        text-align: right;\n",
              "    }\n",
              "</style>\n",
              "<table border=\"1\" class=\"dataframe\">\n",
              "  <thead>\n",
              "    <tr style=\"text-align: right;\">\n",
              "      <th></th>\n",
              "      <th>id</th>\n",
              "      <th>Accurate_Episode_Date</th>\n",
              "      <th>Case_Reported_Date</th>\n",
              "      <th>Test_Reported_Date</th>\n",
              "      <th>Specimen_Date</th>\n",
              "      <th>Age_Group</th>\n",
              "      <th>Client_Gender</th>\n",
              "      <th>Case_AcquisitionInfo</th>\n",
              "      <th>Reporting_PHU_City</th>\n",
              "      <th>Outbreak_Related</th>\n",
              "      <th>Reporting_PHU_Latitude</th>\n",
              "      <th>Reporting_PHU_Longitude</th>\n",
              "    </tr>\n",
              "  </thead>\n",
              "  <tbody>\n",
              "    <tr>\n",
              "      <th>0</th>\n",
              "      <td>0</td>\n",
              "      <td>2020-07-03</td>\n",
              "      <td>2020-07-06</td>\n",
              "      <td>2020-07-06</td>\n",
              "      <td>2020-07-05</td>\n",
              "      <td>30</td>\n",
              "      <td>MALE</td>\n",
              "      <td>CC</td>\n",
              "      <td>Mississauga</td>\n",
              "      <td>No</td>\n",
              "      <td>43.647471</td>\n",
              "      <td>-79.708893</td>\n",
              "    </tr>\n",
              "    <tr>\n",
              "      <th>1</th>\n",
              "      <td>1</td>\n",
              "      <td>2021-01-05</td>\n",
              "      <td>2021-01-13</td>\n",
              "      <td>2021-01-13</td>\n",
              "      <td>2021-01-13</td>\n",
              "      <td>80</td>\n",
              "      <td>FEMALE</td>\n",
              "      <td>NO KNOWN EPI LINK</td>\n",
              "      <td>Peterborough</td>\n",
              "      <td>No</td>\n",
              "      <td>44.301632</td>\n",
              "      <td>-78.321347</td>\n",
              "    </tr>\n",
              "    <tr>\n",
              "      <th>2</th>\n",
              "      <td>2</td>\n",
              "      <td>2021-01-02</td>\n",
              "      <td>2021-01-07</td>\n",
              "      <td>2021-01-07</td>\n",
              "      <td>2021-01-06</td>\n",
              "      <td>60</td>\n",
              "      <td>MALE</td>\n",
              "      <td>CC</td>\n",
              "      <td>Toronto</td>\n",
              "      <td>No</td>\n",
              "      <td>43.656591</td>\n",
              "      <td>-79.379358</td>\n",
              "    </tr>\n",
              "    <tr>\n",
              "      <th>3</th>\n",
              "      <td>3</td>\n",
              "      <td>2020-12-04</td>\n",
              "      <td>2020-12-05</td>\n",
              "      <td>2020-12-05</td>\n",
              "      <td>2020-12-04</td>\n",
              "      <td>70</td>\n",
              "      <td>FEMALE</td>\n",
              "      <td>OB</td>\n",
              "      <td>Hamilton</td>\n",
              "      <td>Yes</td>\n",
              "      <td>43.257631</td>\n",
              "      <td>-79.871341</td>\n",
              "    </tr>\n",
              "    <tr>\n",
              "      <th>4</th>\n",
              "      <td>4</td>\n",
              "      <td>2021-01-17</td>\n",
              "      <td>2021-01-19</td>\n",
              "      <td>2021-01-19</td>\n",
              "      <td>2021-01-17</td>\n",
              "      <td>40</td>\n",
              "      <td>MALE</td>\n",
              "      <td>MISSING INFORMATION</td>\n",
              "      <td>Toronto</td>\n",
              "      <td>No</td>\n",
              "      <td>43.656591</td>\n",
              "      <td>-79.379358</td>\n",
              "    </tr>\n",
              "  </tbody>\n",
              "</table>\n",
              "</div>"
            ],
            "text/plain": [
              "   id Accurate_Episode_Date  ... Reporting_PHU_Latitude Reporting_PHU_Longitude\n",
              "0   0            2020-07-03  ...              43.647471              -79.708893\n",
              "1   1            2021-01-05  ...              44.301632              -78.321347\n",
              "2   2            2021-01-02  ...              43.656591              -79.379358\n",
              "3   3            2020-12-04  ...              43.257631              -79.871341\n",
              "4   4            2021-01-17  ...              43.656591              -79.379358\n",
              "\n",
              "[5 rows x 12 columns]"
            ]
          },
          "metadata": {
            "tags": []
          },
          "execution_count": 96
        }
      ]
    },
    {
      "cell_type": "code",
      "metadata": {
        "id": "n03gAqkbX1Si"
      },
      "source": [
        "kaggle_df['Accurate_Episode_Date'] = kaggle_df['Accurate_Episode_Date'].apply(to_ksp_format)\n",
        "kaggle_df['Case_Reported_Date'] = kaggle_df['Case_Reported_Date'].apply(to_ksp_format)\n",
        "kaggle_df['Test_Reported_Date'] = kaggle_df['Test_Reported_Date'].apply(to_ksp_format)\n",
        "kaggle_df['Specimen_Date'] = kaggle_df['Specimen_Date'].apply(to_ksp_format)"
      ],
      "execution_count": null,
      "outputs": []
    },
    {
      "cell_type": "code",
      "metadata": {
        "id": "0BRdiqaIcLyA"
      },
      "source": [
        "# Remove id from test dataset and store it\n",
        "index = np.array(kaggle_df['id'])\n",
        "kaggle_df = kaggle_df.drop(\"id\", axis = 1)\n",
        "kaggle_df = kaggle_df.drop(\"Reporting_PHU_City\", axis = 1)"
      ],
      "execution_count": null,
      "outputs": []
    },
    {
      "cell_type": "code",
      "metadata": {
        "id": "skcEr6GbX1Sp"
      },
      "source": [
        "enc = pd.get_dummies(kaggle_df, columns = cat_col)"
      ],
      "execution_count": null,
      "outputs": []
    },
    {
      "cell_type": "code",
      "metadata": {
        "colab": {
          "base_uri": "https://localhost:8080/"
        },
        "id": "og4f7ZLlhGUh",
        "outputId": "f71c8ced-9b9b-4bcb-819b-ca614be5e194"
      },
      "source": [
        "enc.info()"
      ],
      "execution_count": null,
      "outputs": [
        {
          "output_type": "stream",
          "text": [
            "<class 'pandas.core.frame.DataFrame'>\n",
            "RangeIndex: 3704 entries, 0 to 3703\n",
            "Data columns (total 18 columns):\n",
            " #   Column                                     Non-Null Count  Dtype  \n",
            "---  ------                                     --------------  -----  \n",
            " 0   Accurate_Episode_Date                      3704 non-null   float64\n",
            " 1   Case_Reported_Date                         3704 non-null   float64\n",
            " 2   Test_Reported_Date                         3704 non-null   float64\n",
            " 3   Specimen_Date                              3704 non-null   float64\n",
            " 4   Age_Group                                  3704 non-null   int64  \n",
            " 5   Reporting_PHU_Latitude                     3704 non-null   float64\n",
            " 6   Reporting_PHU_Longitude                    3704 non-null   float64\n",
            " 7   Client_Gender_FEMALE                       3704 non-null   uint8  \n",
            " 8   Client_Gender_MALE                         3704 non-null   uint8  \n",
            " 9   Client_Gender_UNSPECIFIED                  3704 non-null   uint8  \n",
            " 10  Case_AcquisitionInfo_CC                    3704 non-null   uint8  \n",
            " 11  Case_AcquisitionInfo_MISSING INFORMATION   3704 non-null   uint8  \n",
            " 12  Case_AcquisitionInfo_NO KNOWN EPI LINK     3704 non-null   uint8  \n",
            " 13  Case_AcquisitionInfo_OB                    3704 non-null   uint8  \n",
            " 14  Case_AcquisitionInfo_TRAVEL                3704 non-null   uint8  \n",
            " 15  Case_AcquisitionInfo_UNSPECIFIED EPI LINK  3704 non-null   uint8  \n",
            " 16  Outbreak_Related_No                        3704 non-null   uint8  \n",
            " 17  Outbreak_Related_Yes                       3704 non-null   uint8  \n",
            "dtypes: float64(6), int64(1), uint8(11)\n",
            "memory usage: 242.5 KB\n"
          ],
          "name": "stdout"
        }
      ]
    },
    {
      "cell_type": "code",
      "metadata": {
        "id": "7Tb2swg3X1Sr"
      },
      "source": [
        "scaler  = StandardScaler()\n",
        "enc = scaler.fit_transform(enc)"
      ],
      "execution_count": null,
      "outputs": []
    },
    {
      "cell_type": "code",
      "metadata": {
        "id": "LhAzJ6AWbQSS"
      },
      "source": [
        "preds = t_model.predict(enc)"
      ],
      "execution_count": null,
      "outputs": []
    },
    {
      "cell_type": "code",
      "metadata": {
        "id": "c_yyzZKNmnAK"
      },
      "source": [
        "preds = np.argmax(preds, axis=1)"
      ],
      "execution_count": null,
      "outputs": []
    },
    {
      "cell_type": "code",
      "metadata": {
        "id": "uyMJkpHweV1U"
      },
      "source": [
        "preds = encoder.inverse_transform(preds)"
      ],
      "execution_count": null,
      "outputs": []
    },
    {
      "cell_type": "code",
      "metadata": {
        "id": "2EwG81ndcanc"
      },
      "source": [
        "preds = preds.reshape(-1,1)\n",
        "index = index.reshape(-1,1)"
      ],
      "execution_count": null,
      "outputs": []
    },
    {
      "cell_type": "code",
      "metadata": {
        "id": "p80mDOx6cpNT"
      },
      "source": [
        "xy=np.concatenate((index,preds),axis=1)"
      ],
      "execution_count": null,
      "outputs": []
    },
    {
      "cell_type": "code",
      "metadata": {
        "id": "f33y8l2gc0vR"
      },
      "source": [
        "np.savetxt('submission.csv', [p for p in (xy)], delimiter = ',', fmt = '%s',\n",
        "           header = 'id,Outcome1', comments = '')"
      ],
      "execution_count": null,
      "outputs": []
    },
    {
      "cell_type": "markdown",
      "metadata": {
        "id": "zxf7zw4Ve_M7"
      },
      "source": [
        "### Recurrent Neural Network"
      ]
    },
    {
      "cell_type": "code",
      "metadata": {
        "colab": {
          "base_uri": "https://localhost:8080/",
          "height": 258
        },
        "id": "tXBC5YVSVvab",
        "outputId": "9e6f654e-577a-4b68-a025-22f6911fa88a"
      },
      "source": [
        "rnn_df.head()"
      ],
      "execution_count": null,
      "outputs": [
        {
          "output_type": "execute_result",
          "data": {
            "text/html": [
              "<div>\n",
              "<style scoped>\n",
              "    .dataframe tbody tr th:only-of-type {\n",
              "        vertical-align: middle;\n",
              "    }\n",
              "\n",
              "    .dataframe tbody tr th {\n",
              "        vertical-align: top;\n",
              "    }\n",
              "\n",
              "    .dataframe thead th {\n",
              "        text-align: right;\n",
              "    }\n",
              "</style>\n",
              "<table border=\"1\" class=\"dataframe\">\n",
              "  <thead>\n",
              "    <tr style=\"text-align: right;\">\n",
              "      <th></th>\n",
              "      <th>Accurate_Episode_Date</th>\n",
              "      <th>Case_Reported_Date</th>\n",
              "      <th>Test_Reported_Date</th>\n",
              "      <th>Specimen_Date</th>\n",
              "      <th>Age_Group</th>\n",
              "      <th>Client_Gender</th>\n",
              "      <th>Case_AcquisitionInfo</th>\n",
              "      <th>Reporting_PHU_City</th>\n",
              "      <th>Outbreak_Related</th>\n",
              "      <th>Reporting_PHU_Latitude</th>\n",
              "      <th>Reporting_PHU_Longitude</th>\n",
              "      <th>Outcome1</th>\n",
              "    </tr>\n",
              "  </thead>\n",
              "  <tbody>\n",
              "    <tr>\n",
              "      <th>0</th>\n",
              "      <td>2020-03-30</td>\n",
              "      <td>2020-03-31</td>\n",
              "      <td>2020-03-31</td>\n",
              "      <td>2020-03-30</td>\n",
              "      <td>70.0</td>\n",
              "      <td>MALE</td>\n",
              "      <td>OB</td>\n",
              "      <td>Stratford</td>\n",
              "      <td>Yes</td>\n",
              "      <td>43.368662</td>\n",
              "      <td>-81.001913</td>\n",
              "      <td>Fatal</td>\n",
              "    </tr>\n",
              "    <tr>\n",
              "      <th>1</th>\n",
              "      <td>2021-01-22</td>\n",
              "      <td>2021-01-24</td>\n",
              "      <td>2021-01-24</td>\n",
              "      <td>2021-01-23</td>\n",
              "      <td>50.0</td>\n",
              "      <td>FEMALE</td>\n",
              "      <td>NO KNOWN EPI LINK</td>\n",
              "      <td>Newmarket</td>\n",
              "      <td>No</td>\n",
              "      <td>44.048023</td>\n",
              "      <td>-79.480239</td>\n",
              "      <td>Not Resolved</td>\n",
              "    </tr>\n",
              "    <tr>\n",
              "      <th>2</th>\n",
              "      <td>2020-03-24</td>\n",
              "      <td>2020-04-14</td>\n",
              "      <td>2020-04-14</td>\n",
              "      <td>2020-04-13</td>\n",
              "      <td>70.0</td>\n",
              "      <td>FEMALE</td>\n",
              "      <td>OB</td>\n",
              "      <td>Toronto</td>\n",
              "      <td>Yes</td>\n",
              "      <td>43.656591</td>\n",
              "      <td>-79.379358</td>\n",
              "      <td>Resolved</td>\n",
              "    </tr>\n",
              "    <tr>\n",
              "      <th>3</th>\n",
              "      <td>2021-01-18</td>\n",
              "      <td>2021-01-21</td>\n",
              "      <td>2021-01-21</td>\n",
              "      <td>2021-01-18</td>\n",
              "      <td>10.0</td>\n",
              "      <td>MALE</td>\n",
              "      <td>CC</td>\n",
              "      <td>Mississauga</td>\n",
              "      <td>No</td>\n",
              "      <td>43.647471</td>\n",
              "      <td>-79.708893</td>\n",
              "      <td>Not Resolved</td>\n",
              "    </tr>\n",
              "    <tr>\n",
              "      <th>4</th>\n",
              "      <td>2020-12-26</td>\n",
              "      <td>2020-12-28</td>\n",
              "      <td>2020-12-28</td>\n",
              "      <td>2020-12-26</td>\n",
              "      <td>60.0</td>\n",
              "      <td>MALE</td>\n",
              "      <td>OB</td>\n",
              "      <td>Windsor</td>\n",
              "      <td>Yes</td>\n",
              "      <td>42.308796</td>\n",
              "      <td>-83.033670</td>\n",
              "      <td>Resolved</td>\n",
              "    </tr>\n",
              "  </tbody>\n",
              "</table>\n",
              "</div>"
            ],
            "text/plain": [
              "  Accurate_Episode_Date  ...      Outcome1\n",
              "0            2020-03-30  ...         Fatal\n",
              "1            2021-01-22  ...  Not Resolved\n",
              "2            2020-03-24  ...      Resolved\n",
              "3            2021-01-18  ...  Not Resolved\n",
              "4            2020-12-26  ...      Resolved\n",
              "\n",
              "[5 rows x 12 columns]"
            ]
          },
          "metadata": {
            "tags": []
          },
          "execution_count": 108
        }
      ]
    },
    {
      "cell_type": "code",
      "metadata": {
        "id": "RZCkHWAHW2lO"
      },
      "source": [
        "rnn_df = rnn_df.drop(\"Reporting_PHU_City\", axis = 1)"
      ],
      "execution_count": null,
      "outputs": []
    },
    {
      "cell_type": "code",
      "metadata": {
        "colab": {
          "base_uri": "https://localhost:8080/"
        },
        "id": "H2RCHTY7XG-T",
        "outputId": "c268f76f-75bf-4331-8364-a787b090625b"
      },
      "source": [
        "rnn_df.info()"
      ],
      "execution_count": null,
      "outputs": [
        {
          "output_type": "stream",
          "text": [
            "<class 'pandas.core.frame.DataFrame'>\n",
            "Int64Index: 14650 entries, 0 to 14859\n",
            "Data columns (total 11 columns):\n",
            " #   Column                   Non-Null Count  Dtype         \n",
            "---  ------                   --------------  -----         \n",
            " 0   Accurate_Episode_Date    14650 non-null  datetime64[ns]\n",
            " 1   Case_Reported_Date       14650 non-null  datetime64[ns]\n",
            " 2   Test_Reported_Date       14650 non-null  datetime64[ns]\n",
            " 3   Specimen_Date            14650 non-null  datetime64[ns]\n",
            " 4   Age_Group                14650 non-null  float64       \n",
            " 5   Client_Gender            14650 non-null  object        \n",
            " 6   Case_AcquisitionInfo     14650 non-null  object        \n",
            " 7   Outbreak_Related         14650 non-null  object        \n",
            " 8   Reporting_PHU_Latitude   14650 non-null  float64       \n",
            " 9   Reporting_PHU_Longitude  14650 non-null  float64       \n",
            " 10  Outcome1                 14650 non-null  object        \n",
            "dtypes: datetime64[ns](4), float64(3), object(4)\n",
            "memory usage: 1.3+ MB\n"
          ],
          "name": "stdout"
        }
      ]
    },
    {
      "cell_type": "code",
      "metadata": {
        "id": "4zW1pg48XToR"
      },
      "source": [
        "rnn_enc = pd.get_dummies(rnn_df, columns = cat_col)"
      ],
      "execution_count": null,
      "outputs": []
    },
    {
      "cell_type": "code",
      "metadata": {
        "id": "vQ5U3I3uXmDk"
      },
      "source": [
        "rnn_enc['Outcome1'] = encoder.transform(rnn_enc['Outcome1'])"
      ],
      "execution_count": null,
      "outputs": []
    },
    {
      "cell_type": "code",
      "metadata": {
        "colab": {
          "base_uri": "https://localhost:8080/",
          "height": 241
        },
        "id": "HXeyR_BRa8_l",
        "outputId": "8c80a7d6-2d6f-4ef7-8fc1-0c246ea02ffb"
      },
      "source": [
        "rnn_enc.head()"
      ],
      "execution_count": null,
      "outputs": [
        {
          "output_type": "execute_result",
          "data": {
            "text/html": [
              "<div>\n",
              "<style scoped>\n",
              "    .dataframe tbody tr th:only-of-type {\n",
              "        vertical-align: middle;\n",
              "    }\n",
              "\n",
              "    .dataframe tbody tr th {\n",
              "        vertical-align: top;\n",
              "    }\n",
              "\n",
              "    .dataframe thead th {\n",
              "        text-align: right;\n",
              "    }\n",
              "</style>\n",
              "<table border=\"1\" class=\"dataframe\">\n",
              "  <thead>\n",
              "    <tr style=\"text-align: right;\">\n",
              "      <th></th>\n",
              "      <th>Accurate_Episode_Date</th>\n",
              "      <th>Case_Reported_Date</th>\n",
              "      <th>Test_Reported_Date</th>\n",
              "      <th>Specimen_Date</th>\n",
              "      <th>Age_Group</th>\n",
              "      <th>Reporting_PHU_Latitude</th>\n",
              "      <th>Reporting_PHU_Longitude</th>\n",
              "      <th>Outcome1</th>\n",
              "      <th>Client_Gender_FEMALE</th>\n",
              "      <th>Client_Gender_GENDER DIVERSE</th>\n",
              "      <th>Client_Gender_MALE</th>\n",
              "      <th>Client_Gender_UNSPECIFIED</th>\n",
              "      <th>Case_AcquisitionInfo_CC</th>\n",
              "      <th>Case_AcquisitionInfo_MISSING INFORMATION</th>\n",
              "      <th>Case_AcquisitionInfo_NO KNOWN EPI LINK</th>\n",
              "      <th>Case_AcquisitionInfo_OB</th>\n",
              "      <th>Case_AcquisitionInfo_TRAVEL</th>\n",
              "      <th>Case_AcquisitionInfo_UNSPECIFIED EPI LINK</th>\n",
              "      <th>Outbreak_Related_No</th>\n",
              "      <th>Outbreak_Related_Yes</th>\n",
              "    </tr>\n",
              "  </thead>\n",
              "  <tbody>\n",
              "    <tr>\n",
              "      <th>0</th>\n",
              "      <td>2020-03-30</td>\n",
              "      <td>2020-03-31</td>\n",
              "      <td>2020-03-31</td>\n",
              "      <td>2020-03-30</td>\n",
              "      <td>70.0</td>\n",
              "      <td>43.368662</td>\n",
              "      <td>-81.001913</td>\n",
              "      <td>0</td>\n",
              "      <td>0</td>\n",
              "      <td>0</td>\n",
              "      <td>1</td>\n",
              "      <td>0</td>\n",
              "      <td>0</td>\n",
              "      <td>0</td>\n",
              "      <td>0</td>\n",
              "      <td>1</td>\n",
              "      <td>0</td>\n",
              "      <td>0</td>\n",
              "      <td>0</td>\n",
              "      <td>1</td>\n",
              "    </tr>\n",
              "    <tr>\n",
              "      <th>1</th>\n",
              "      <td>2021-01-22</td>\n",
              "      <td>2021-01-24</td>\n",
              "      <td>2021-01-24</td>\n",
              "      <td>2021-01-23</td>\n",
              "      <td>50.0</td>\n",
              "      <td>44.048023</td>\n",
              "      <td>-79.480239</td>\n",
              "      <td>1</td>\n",
              "      <td>1</td>\n",
              "      <td>0</td>\n",
              "      <td>0</td>\n",
              "      <td>0</td>\n",
              "      <td>0</td>\n",
              "      <td>0</td>\n",
              "      <td>1</td>\n",
              "      <td>0</td>\n",
              "      <td>0</td>\n",
              "      <td>0</td>\n",
              "      <td>1</td>\n",
              "      <td>0</td>\n",
              "    </tr>\n",
              "    <tr>\n",
              "      <th>2</th>\n",
              "      <td>2020-03-24</td>\n",
              "      <td>2020-04-14</td>\n",
              "      <td>2020-04-14</td>\n",
              "      <td>2020-04-13</td>\n",
              "      <td>70.0</td>\n",
              "      <td>43.656591</td>\n",
              "      <td>-79.379358</td>\n",
              "      <td>2</td>\n",
              "      <td>1</td>\n",
              "      <td>0</td>\n",
              "      <td>0</td>\n",
              "      <td>0</td>\n",
              "      <td>0</td>\n",
              "      <td>0</td>\n",
              "      <td>0</td>\n",
              "      <td>1</td>\n",
              "      <td>0</td>\n",
              "      <td>0</td>\n",
              "      <td>0</td>\n",
              "      <td>1</td>\n",
              "    </tr>\n",
              "    <tr>\n",
              "      <th>3</th>\n",
              "      <td>2021-01-18</td>\n",
              "      <td>2021-01-21</td>\n",
              "      <td>2021-01-21</td>\n",
              "      <td>2021-01-18</td>\n",
              "      <td>10.0</td>\n",
              "      <td>43.647471</td>\n",
              "      <td>-79.708893</td>\n",
              "      <td>1</td>\n",
              "      <td>0</td>\n",
              "      <td>0</td>\n",
              "      <td>1</td>\n",
              "      <td>0</td>\n",
              "      <td>1</td>\n",
              "      <td>0</td>\n",
              "      <td>0</td>\n",
              "      <td>0</td>\n",
              "      <td>0</td>\n",
              "      <td>0</td>\n",
              "      <td>1</td>\n",
              "      <td>0</td>\n",
              "    </tr>\n",
              "    <tr>\n",
              "      <th>4</th>\n",
              "      <td>2020-12-26</td>\n",
              "      <td>2020-12-28</td>\n",
              "      <td>2020-12-28</td>\n",
              "      <td>2020-12-26</td>\n",
              "      <td>60.0</td>\n",
              "      <td>42.308796</td>\n",
              "      <td>-83.033670</td>\n",
              "      <td>2</td>\n",
              "      <td>0</td>\n",
              "      <td>0</td>\n",
              "      <td>1</td>\n",
              "      <td>0</td>\n",
              "      <td>0</td>\n",
              "      <td>0</td>\n",
              "      <td>0</td>\n",
              "      <td>1</td>\n",
              "      <td>0</td>\n",
              "      <td>0</td>\n",
              "      <td>0</td>\n",
              "      <td>1</td>\n",
              "    </tr>\n",
              "  </tbody>\n",
              "</table>\n",
              "</div>"
            ],
            "text/plain": [
              "  Accurate_Episode_Date  ... Outbreak_Related_Yes\n",
              "0            2020-03-30  ...                    1\n",
              "1            2021-01-22  ...                    0\n",
              "2            2020-03-24  ...                    1\n",
              "3            2021-01-18  ...                    0\n",
              "4            2020-12-26  ...                    1\n",
              "\n",
              "[5 rows x 20 columns]"
            ]
          },
          "metadata": {
            "tags": []
          },
          "execution_count": 113
        }
      ]
    },
    {
      "cell_type": "code",
      "metadata": {
        "colab": {
          "base_uri": "https://localhost:8080/"
        },
        "id": "7N7fWiWAbB0h",
        "outputId": "fa0c1e26-e3ad-4550-8b96-465d575d4789"
      },
      "source": [
        "rnn_enc = rnn_enc.loc[:, ['Accurate_Episode_Date', 'Outcome1']]\n",
        "rnn_enc.sort_values('Accurate_Episode_Date', inplace=True, ascending=True)\n",
        "rnn_enc = rnn_enc.reset_index(drop=True)\n",
        "\n",
        "print('Number of rows and columns after removing missing values:', rnn_enc.shape)\n",
        "print('The time series starts from: ', rnn_enc['Accurate_Episode_Date'].min())\n",
        "print('The time series ends on: ', rnn_enc['Accurate_Episode_Date'].max())"
      ],
      "execution_count": null,
      "outputs": [
        {
          "output_type": "stream",
          "text": [
            "Number of rows and columns after removing missing values: (14650, 2)\n",
            "The time series starts from:  2020-01-10 00:00:00\n",
            "The time series ends on:  2021-01-30 00:00:00\n"
          ],
          "name": "stdout"
        }
      ]
    },
    {
      "cell_type": "code",
      "metadata": {
        "colab": {
          "base_uri": "https://localhost:8080/"
        },
        "id": "wPZHPRJFb3Yl",
        "outputId": "484bb5b6-8213-4992-f648-66368e4fdf46"
      },
      "source": [
        "from datetime import timedelta\n",
        "# Split into training, validation and test datasets.\n",
        "# Since it's timeseries we should do it by date.\n",
        "test_cutoff_date = rnn_enc['Accurate_Episode_Date'].max() - timedelta(days=7)\n",
        "val_cutoff_date = test_cutoff_date - timedelta(days=14)\n",
        "\n",
        "df_test = rnn_enc[rnn_enc['Accurate_Episode_Date'] > test_cutoff_date]\n",
        "df_val = rnn_enc[(rnn_enc['Accurate_Episode_Date'] > val_cutoff_date) &\n",
        "                 (rnn_enc['Accurate_Episode_Date'] <= test_cutoff_date)]\n",
        "df_train = rnn_enc[rnn_enc['Accurate_Episode_Date'] <= val_cutoff_date]\n",
        "\n",
        "#check out the datasets\n",
        "print('Test dates: {} to {}'.format(df_test['Accurate_Episode_Date'].min(),\n",
        "                                    df_test['Accurate_Episode_Date'].max()))\n",
        "print('Validation dates: {} to {}'.format(df_val['Accurate_Episode_Date'].min(),\n",
        "                                          df_val['Accurate_Episode_Date'].max()))\n",
        "print('Train dates: {} to {}'.format(df_train['Accurate_Episode_Date'].min(),\n",
        "                                     df_train['Accurate_Episode_Date'].max()))"
      ],
      "execution_count": null,
      "outputs": [
        {
          "output_type": "stream",
          "text": [
            "Test dates: 2021-01-24 00:00:00 to 2021-01-30 00:00:00\n",
            "Validation dates: 2021-01-10 00:00:00 to 2021-01-23 00:00:00\n",
            "Train dates: 2020-01-10 00:00:00 to 2021-01-09 00:00:00\n"
          ],
          "name": "stdout"
        }
      ]
    },
    {
      "cell_type": "code",
      "metadata": {
        "id": "QZBpe7IGc5cU"
      },
      "source": [
        "#Create tensors\n",
        "import os\n",
        "import math\n",
        "def create_ts_files(dataset,\n",
        "                    start_index,\n",
        "                    end_index,\n",
        "                    history_length,\n",
        "                    step_size,\n",
        "                    target_step,\n",
        "                    num_rows_per_file,\n",
        "                    data_folder):\n",
        "    assert step_size > 0\n",
        "    assert start_index >= 0\n",
        "\n",
        "    if not os.path.exists(data_folder):\n",
        "        os.makedirs(data_folder)\n",
        "    time_lags = sorted(range(target_step+1, target_step+history_length+1, step_size),\n",
        "                           reverse=True)\n",
        "    col_names = [f'x_lag{i}' for i in time_lags] + ['y']\n",
        "    start_index = start_index + history_length\n",
        "    if end_index is None:\n",
        "        end_index = len(dataset) - target_step\n",
        "\n",
        "    rng = range(start_index, end_index)\n",
        "    num_rows = len(rng)\n",
        "    num_files = math.ceil(num_rows/num_rows_per_file)\n",
        "\n",
        "    # for each file.\n",
        "    print(f'Creating {num_files} files.')\n",
        "    for i in range(num_files):\n",
        "        filename = f'{data_folder}/ts_file{i}.pkl'\n",
        "\n",
        "        if i % 10 == 0:\n",
        "            print(f'{filename}')\n",
        "\n",
        "        # get the start and end indices.\n",
        "        ind0 = i*num_rows_per_file\n",
        "        ind1 = min(ind0 + num_rows_per_file, end_index)\n",
        "        data_list = []\n",
        "\n",
        "        # j in the current timestep. Will need j-n to j-1 for the history.\n",
        "        #And j + target_step for the target.\n",
        "        for j in range(ind0, ind1):\n",
        "            indices = range(j-1, j-history_length-1, -step_size)\n",
        "            data = dataset[sorted(indices) + [j+target_step]]\n",
        "\n",
        "            # append data to the list.\n",
        "            data_list.append(data)\n",
        "\n",
        "        df_ts = pd.DataFrame(data=data_list, columns=col_names)\n",
        "        df_ts.to_pickle(filename)\n",
        "\n",
        "    return len(col_names)-1"
      ],
      "execution_count": null,
      "outputs": []
    },
    {
      "cell_type": "code",
      "metadata": {
        "colab": {
          "base_uri": "https://localhost:8080/"
        },
        "id": "0rWJ3Z1Zds42",
        "outputId": "81a96023-ad0d-4e08-b551-6449840bfbf9"
      },
      "source": [
        "from sklearn.preprocessing import MinMaxScaler\n",
        "outcome = df_train['Outcome1'].values\n",
        "\n",
        "# Scaled to work with Neural networks.\n",
        "scaler = MinMaxScaler(feature_range=(0, 1))\n",
        "outcome_scaled = scaler.fit_transform(outcome.reshape(-1, 1)).reshape(-1, )\n",
        "\n",
        "history_length = 7*24  # The history length.\n",
        "step_size = 10  # The sampling rate of the history. Eg. If step_size = 1,\n",
        "                # then values from every minute will be in the history.\n",
        "                # If step size = 10 then values every 10 minutes will be in the history.\n",
        "target_step = 10  # The time step in the future to predict. Eg. If target_step = 0,\n",
        "                  # then predict the next timestep after the end of the history period.\n",
        "                  # If target_step = 10 then predict 10 timesteps the next timestep\n",
        "                  #(11 minutes after the end of history).\n",
        "\n",
        "# The csv creation returns the number of rows and number of features.\n",
        "#We need these values below.\n",
        "num_timesteps = create_ts_files(outcome_scaled,\n",
        "                                start_index=0,\n",
        "                                end_index=None,\n",
        "                                history_length=history_length,\n",
        "                                step_size=step_size,\n",
        "                                target_step=target_step,\n",
        "                                num_rows_per_file=128*100,\n",
        "                                data_folder='ts_data')\n"
      ],
      "execution_count": null,
      "outputs": [
        {
          "output_type": "stream",
          "text": [
            "Creating 1 files.\n",
            "ts_data/ts_file0.pkl\n"
          ],
          "name": "stdout"
        }
      ]
    },
    {
      "cell_type": "code",
      "metadata": {
        "id": "XERZnflrgrA1"
      },
      "source": [
        "class TimeSeriesLoader:\n",
        "    def __init__(self, ts_folder, filename_format):\n",
        "        self.ts_folder = ts_folder\n",
        "\n",
        "        # find the number of files.\n",
        "        i = 0\n",
        "        file_found = True\n",
        "        while file_found:\n",
        "            filename = self.ts_folder + '/' + filename_format.format(i)\n",
        "            file_found = os.path.exists(filename)\n",
        "            if file_found:\n",
        "                i += 1\n",
        "\n",
        "        self.num_files = i\n",
        "        self.files_indices = np.arange(self.num_files)\n",
        "        self.shuffle_chunks()\n",
        "\n",
        "    def num_chunks(self):\n",
        "        return self.num_files\n",
        "\n",
        "    def get_chunk(self, idx):\n",
        "        assert (idx >= 0) and (idx < self.num_files)\n",
        "\n",
        "        ind = self.files_indices[idx]\n",
        "        filename = self.ts_folder + '/' + filename_format.format(ind)\n",
        "        df_ts = pd.read_pickle(filename)\n",
        "        num_records = len(df_ts.index)\n",
        "\n",
        "        features = df_ts.drop('y', axis=1).values\n",
        "        target = df_ts['y'].values\n",
        "\n",
        "        # reshape for input into LSTM. Batch major format.\n",
        "        features_batchmajor = np.array(features).reshape(num_records, -1, 1)\n",
        "        return features_batchmajor, target\n",
        "\n",
        "     # this shuffles the order the chunks will be outputted from get_chunk.\n",
        "    def shuffle_chunks(self):\n",
        "        np.random.shuffle(self.files_indices)"
      ],
      "execution_count": null,
      "outputs": []
    },
    {
      "cell_type": "code",
      "metadata": {
        "id": "txCrBHsGhDZh"
      },
      "source": [
        "ts_folder = 'ts_data'\n",
        "filename_format = 'ts_file{}.pkl'\n",
        "tss = TimeSeriesLoader(ts_folder, filename_format)"
      ],
      "execution_count": null,
      "outputs": []
    },
    {
      "cell_type": "code",
      "metadata": {
        "id": "prelqjOVhHqC"
      },
      "source": [
        "# Create the Keras model.\n",
        "\n",
        "ts_inputs = tf.keras.Input(shape=(num_timesteps, 1))\n",
        "\n",
        "# units=10 -> The cell and hidden states will be of dimension 10.\n",
        "#             The number of parameters that need to be trained = 4*units*(units+2)\n",
        "x = keras.layers.LSTM(units=10)(ts_inputs)\n",
        "x = keras.layers.Dropout(0.2)(x)\n",
        "outputs = keras.layers.Dense(1, activation='linear')(x)\n",
        "model = tf.keras.Model(inputs=ts_inputs, outputs=outputs)"
      ],
      "execution_count": null,
      "outputs": []
    },
    {
      "cell_type": "code",
      "metadata": {
        "id": "G3JyfnU9hjeK"
      },
      "source": [
        "# Specify the training configuration.\n",
        "model.compile(optimizer=tf.keras.optimizers.SGD(learning_rate=0.01),\n",
        "              loss=tf.keras.losses.MeanSquaredError(),\n",
        "              metrics=['accuracy'])"
      ],
      "execution_count": null,
      "outputs": []
    },
    {
      "cell_type": "code",
      "metadata": {
        "colab": {
          "base_uri": "https://localhost:8080/"
        },
        "id": "UkdWtk1RhsWU",
        "outputId": "df50fb1f-93a1-4312-a165-5b957bc333e8"
      },
      "source": [
        "plot_model(model, to_file='model10.png', show_shapes=True, show_layer_names=True)\n",
        "model.summary()"
      ],
      "execution_count": null,
      "outputs": [
        {
          "output_type": "stream",
          "text": [
            "Model: \"model\"\n",
            "_________________________________________________________________\n",
            "Layer (type)                 Output Shape              Param #   \n",
            "=================================================================\n",
            "input_1 (InputLayer)         [(None, 17, 1)]           0         \n",
            "_________________________________________________________________\n",
            "lstm (LSTM)                  (None, 10)                480       \n",
            "_________________________________________________________________\n",
            "dropout_3 (Dropout)          (None, 10)                0         \n",
            "_________________________________________________________________\n",
            "dense_407 (Dense)            (None, 1)                 11        \n",
            "=================================================================\n",
            "Total params: 491\n",
            "Trainable params: 491\n",
            "Non-trainable params: 0\n",
            "_________________________________________________________________\n"
          ],
          "name": "stdout"
        }
      ]
    },
    {
      "cell_type": "code",
      "metadata": {
        "colab": {
          "base_uri": "https://localhost:8080/"
        },
        "id": "ouewrD65huiw",
        "outputId": "7f2a7858-925d-4b69-f97d-c6c91040a3f8"
      },
      "source": [
        "# train in batch sizes of 128.\n",
        "BATCH_SIZE = 128\n",
        "NUM_EPOCHS = 50\n",
        "NUM_CHUNKS = tss.num_chunks()\n",
        "\n",
        "for epoch in range(NUM_EPOCHS):\n",
        "    print('epoch #{}'.format(epoch))\n",
        "    for i in range(NUM_CHUNKS):\n",
        "        X, y = tss.get_chunk(i)\n",
        "        t1 = time()\n",
        "        model.fit(x=X, y=y, batch_size=BATCH_SIZE)\n",
        "        t2 = time()\n",
        "    # shuffle the chunks so they're not in the same order next time around.\n",
        "    tss.shuffle_chunks()"
      ],
      "execution_count": null,
      "outputs": [
        {
          "output_type": "stream",
          "text": [
            "epoch #0\n",
            "72/72 [==============================] - 30s 3ms/step - loss: 0.4261 - accuracy: 0.4928\n",
            "epoch #1\n",
            "72/72 [==============================] - 0s 3ms/step - loss: 0.2514 - accuracy: 0.5160\n",
            "epoch #2\n",
            "72/72 [==============================] - 0s 3ms/step - loss: 0.2450 - accuracy: 0.5478\n",
            "epoch #3\n",
            "72/72 [==============================] - 0s 3ms/step - loss: 0.2356 - accuracy: 0.6020\n",
            "epoch #4\n",
            "72/72 [==============================] - 0s 3ms/step - loss: 0.2320 - accuracy: 0.6063\n",
            "epoch #5\n",
            "72/72 [==============================] - 0s 3ms/step - loss: 0.2289 - accuracy: 0.6174\n",
            "epoch #6\n",
            "72/72 [==============================] - 0s 3ms/step - loss: 0.2260 - accuracy: 0.6226\n",
            "epoch #7\n",
            "72/72 [==============================] - 0s 4ms/step - loss: 0.2248 - accuracy: 0.6239\n",
            "epoch #8\n",
            "72/72 [==============================] - 0s 4ms/step - loss: 0.2245 - accuracy: 0.6288\n",
            "epoch #9\n",
            "72/72 [==============================] - 0s 3ms/step - loss: 0.2230 - accuracy: 0.6273\n",
            "epoch #10\n",
            "72/72 [==============================] - 0s 3ms/step - loss: 0.2208 - accuracy: 0.6400\n",
            "epoch #11\n",
            "72/72 [==============================] - 0s 3ms/step - loss: 0.2223 - accuracy: 0.6335\n",
            "epoch #12\n",
            "72/72 [==============================] - 0s 3ms/step - loss: 0.2202 - accuracy: 0.6361\n",
            "epoch #13\n",
            "72/72 [==============================] - 0s 3ms/step - loss: 0.2211 - accuracy: 0.6364\n",
            "epoch #14\n",
            "72/72 [==============================] - 0s 4ms/step - loss: 0.2207 - accuracy: 0.6363\n",
            "epoch #15\n",
            "72/72 [==============================] - 0s 4ms/step - loss: 0.2193 - accuracy: 0.6478\n",
            "epoch #16\n",
            "72/72 [==============================] - 0s 4ms/step - loss: 0.2204 - accuracy: 0.6388\n",
            "epoch #17\n",
            "72/72 [==============================] - 0s 3ms/step - loss: 0.2198 - accuracy: 0.6424\n",
            "epoch #18\n",
            "72/72 [==============================] - 0s 3ms/step - loss: 0.2204 - accuracy: 0.6383\n",
            "epoch #19\n",
            "72/72 [==============================] - 0s 3ms/step - loss: 0.2185 - accuracy: 0.6427\n",
            "epoch #20\n",
            "72/72 [==============================] - 0s 4ms/step - loss: 0.2198 - accuracy: 0.6413\n",
            "epoch #21\n",
            "72/72 [==============================] - 0s 4ms/step - loss: 0.2197 - accuracy: 0.6459\n",
            "epoch #22\n",
            "72/72 [==============================] - 0s 4ms/step - loss: 0.2201 - accuracy: 0.6446\n",
            "epoch #23\n",
            "72/72 [==============================] - 0s 3ms/step - loss: 0.2186 - accuracy: 0.6411\n",
            "epoch #24\n",
            "72/72 [==============================] - 0s 3ms/step - loss: 0.2188 - accuracy: 0.6465\n",
            "epoch #25\n",
            "72/72 [==============================] - 0s 3ms/step - loss: 0.2195 - accuracy: 0.6447\n",
            "epoch #26\n",
            "72/72 [==============================] - 0s 4ms/step - loss: 0.2188 - accuracy: 0.6471\n",
            "epoch #27\n",
            "72/72 [==============================] - 0s 4ms/step - loss: 0.2189 - accuracy: 0.6460\n",
            "epoch #28\n",
            "72/72 [==============================] - 0s 3ms/step - loss: 0.2181 - accuracy: 0.6454\n",
            "epoch #29\n",
            "72/72 [==============================] - 0s 3ms/step - loss: 0.2190 - accuracy: 0.6496\n",
            "epoch #30\n",
            "72/72 [==============================] - 0s 3ms/step - loss: 0.2184 - accuracy: 0.6526\n",
            "epoch #31\n",
            "72/72 [==============================] - 0s 3ms/step - loss: 0.2192 - accuracy: 0.6464\n",
            "epoch #32\n",
            "72/72 [==============================] - 0s 4ms/step - loss: 0.2187 - accuracy: 0.6462\n",
            "epoch #33\n",
            "72/72 [==============================] - 0s 3ms/step - loss: 0.2189 - accuracy: 0.6472\n",
            "epoch #34\n",
            "72/72 [==============================] - 0s 3ms/step - loss: 0.2172 - accuracy: 0.6486\n",
            "epoch #35\n",
            "72/72 [==============================] - 0s 4ms/step - loss: 0.2186 - accuracy: 0.6462\n",
            "epoch #36\n",
            "72/72 [==============================] - 0s 3ms/step - loss: 0.2174 - accuracy: 0.6496\n",
            "epoch #37\n",
            "72/72 [==============================] - 0s 3ms/step - loss: 0.2180 - accuracy: 0.6443\n",
            "epoch #38\n",
            "72/72 [==============================] - 0s 4ms/step - loss: 0.2175 - accuracy: 0.6507\n",
            "epoch #39\n",
            "72/72 [==============================] - 0s 4ms/step - loss: 0.2183 - accuracy: 0.6483\n",
            "epoch #40\n",
            "72/72 [==============================] - 0s 4ms/step - loss: 0.2172 - accuracy: 0.6567\n",
            "epoch #41\n",
            "72/72 [==============================] - 0s 3ms/step - loss: 0.2188 - accuracy: 0.6439\n",
            "epoch #42\n",
            "72/72 [==============================] - 0s 4ms/step - loss: 0.2177 - accuracy: 0.6546\n",
            "epoch #43\n",
            "72/72 [==============================] - 0s 4ms/step - loss: 0.2177 - accuracy: 0.6466\n",
            "epoch #44\n",
            "72/72 [==============================] - 0s 3ms/step - loss: 0.2182 - accuracy: 0.6454\n",
            "epoch #45\n",
            "72/72 [==============================] - 0s 3ms/step - loss: 0.2169 - accuracy: 0.6480\n",
            "epoch #46\n",
            "72/72 [==============================] - 0s 4ms/step - loss: 0.2175 - accuracy: 0.6507\n",
            "epoch #47\n",
            "72/72 [==============================] - 0s 4ms/step - loss: 0.2176 - accuracy: 0.6527\n",
            "epoch #48\n",
            "72/72 [==============================] - 0s 4ms/step - loss: 0.2179 - accuracy: 0.6517\n",
            "epoch #49\n",
            "72/72 [==============================] - 0s 4ms/step - loss: 0.2182 - accuracy: 0.6482\n"
          ],
          "name": "stdout"
        }
      ]
    },
    {
      "cell_type": "code",
      "metadata": {
        "colab": {
          "base_uri": "https://localhost:8080/"
        },
        "id": "uXVQfvoah5Ab",
        "outputId": "ad101e6f-0e0d-4ebf-9cfc-bd1eb8b216af"
      },
      "source": [
        "# evaluate the model on the validation set.\n",
        "#\n",
        "# Create the validation CSV like we did before with the training.\n",
        "outcome_val = df_val['Outcome1'].values\n",
        "outcome_val_scaled = scaler.transform(outcome_val.reshape(-1, 1)).reshape(-1, )\n",
        "\n",
        "history_length = 7*24  # The history length\n",
        "step_size = 10\n",
        "target_step = 10\n",
        "\n",
        "# The csv creation returns the number of rows and number of features.\n",
        "num_timesteps = create_ts_files(outcome_val_scaled,\n",
        "                                start_index=0,\n",
        "                                end_index=None,\n",
        "                                history_length=history_length,\n",
        "                                step_size=step_size,\n",
        "                                target_step=target_step,\n",
        "                                num_rows_per_file=128*100,\n",
        "                                data_folder='ts_val_data')"
      ],
      "execution_count": null,
      "outputs": [
        {
          "output_type": "stream",
          "text": [
            "Creating 1 files.\n",
            "ts_val_data/ts_file0.pkl\n"
          ],
          "name": "stdout"
        }
      ]
    },
    {
      "cell_type": "code",
      "metadata": {
        "colab": {
          "base_uri": "https://localhost:8080/"
        },
        "id": "dsihXTrGieMG",
        "outputId": "e526e53c-e373-49ec-e0e4-b62e5bbb0424"
      },
      "source": [
        "from sklearn.metrics import mean_squared_error\n",
        "# If we assume that the validation dataset can fit into memory we can do this.\n",
        "df_val_ts = pd.read_pickle('ts_val_data/ts_file0.pkl')\n",
        "\n",
        "\n",
        "features = df_val_ts.drop('y', axis=1).values\n",
        "features_arr = np.array(features)\n",
        "\n",
        "# reshape for input into LSTM. Batch major format.\n",
        "num_records = len(df_val_ts.index)\n",
        "features_batchmajor = features_arr.reshape(num_records, -1, 1)\n",
        "\n",
        "\n",
        "y_pred = model.predict(features_batchmajor).reshape(-1, )\n",
        "y_pred = scaler.inverse_transform(y_pred.reshape(-1, 1)).reshape(-1 ,)\n",
        "\n",
        "y_act = df_val_ts['y'].values\n",
        "y_act = scaler.inverse_transform(y_act.reshape(-1, 1)).reshape(-1 ,)\n",
        "\n",
        "print('validation mean squared error: {}'.format(mean_squared_error(y_act, y_pred)))\n",
        "#baseline\n",
        "y_pred_baseline = df_val_ts['x_lag11'].values\n",
        "y_pred_baseline = scaler.inverse_transform(y_pred_baseline.reshape(-1, 1)).reshape(-1 ,)\n",
        "print('validation baseline mean squared error: {}'.format(mean_squared_error(y_act,\n",
        "                                                                             y_pred_baseline)))"
      ],
      "execution_count": null,
      "outputs": [
        {
          "output_type": "stream",
          "text": [
            "validation mean squared error: 0.1519070804354985\n",
            "validation baseline mean squared error: 0.2737226277372263\n"
          ],
          "name": "stdout"
        }
      ]
    },
    {
      "cell_type": "code",
      "metadata": {
        "id": "doVF8IcWrweq"
      },
      "source": [
        "from sklearn.metrics import accuracy_score\n",
        "val_performance['RNN'] = [mean_squared_error(y_act, y_pred),\n",
        "                          accuracy_score(y_act, y_pred_baseline)]\n",
        "run_time['RNN'] = t2 - t1"
      ],
      "execution_count": null,
      "outputs": []
    },
    {
      "cell_type": "code",
      "metadata": {
        "colab": {
          "base_uri": "https://localhost:8080/"
        },
        "id": "BUpRwUoq7o_x",
        "outputId": "31e80b1f-615a-4a07-8814-a9d2c99f3652"
      },
      "source": [
        "# evaluate the model on the test set.\n",
        "#\n",
        "# Create the test CSV like we did before with the training.\n",
        "outcome_test = df_test['Outcome1'].values\n",
        "outcome_test_scaled = scaler.transform(outcome_test.reshape(-1, 1)).reshape(-1, )\n",
        "\n",
        "history_length = 7*24  # The history length\n",
        "step_size = 10\n",
        "target_step = 10\n",
        "\n",
        "# The csv creation returns the number of rows and number of features.\n",
        "num_timesteps = create_ts_files(outcome_test_scaled,\n",
        "                                start_index=0,\n",
        "                                end_index=None,\n",
        "                                history_length=history_length,\n",
        "                                step_size=step_size,\n",
        "                                target_step=target_step,\n",
        "                                num_rows_per_file=128*100,\n",
        "                                data_folder='ts_test_data')"
      ],
      "execution_count": null,
      "outputs": [
        {
          "output_type": "stream",
          "text": [
            "Creating 1 files.\n",
            "ts_test_data/ts_file0.pkl\n"
          ],
          "name": "stdout"
        }
      ]
    },
    {
      "cell_type": "code",
      "metadata": {
        "colab": {
          "base_uri": "https://localhost:8080/"
        },
        "id": "BEAy8nzU73ef",
        "outputId": "46cc5bdd-14c2-44c4-8578-bc7a25d8db0d"
      },
      "source": [
        "df_test_ts = pd.read_pickle('ts_test_data/ts_file0.pkl')\n",
        "\n",
        "\n",
        "features = df_test_ts.drop('y', axis=1).values\n",
        "features_arr = np.array(features)\n",
        "\n",
        "# reshape for input into LSTM. Batch major format.\n",
        "num_records = len(df_test_ts.index)\n",
        "features_batchmajor = features_arr.reshape(num_records, -1, 1)\n",
        "\n",
        "\n",
        "y_pred_t = model.predict(features_batchmajor).reshape(-1, )\n",
        "y_pred_t = scaler.inverse_transform(y_pred_t.reshape(-1, 1)).reshape(-1 ,)\n",
        "\n",
        "y_act_t = df_test_ts['y'].values\n",
        "y_act_t = scaler.inverse_transform(y_act_t.reshape(-1, 1)).reshape(-1 ,)\n",
        "\n",
        "print('test mean squared error: {}'.format(mean_squared_error(y_act_t, y_pred_t)))\n",
        "#baseline\n",
        "y_pred_baseline = df_test_ts['x_lag11'].values\n",
        "y_pred_baseline = scaler.inverse_transform(y_pred_baseline.reshape(-1, 1)).reshape(-1 ,)\n",
        "print('test baseline mean squared error: {}'.format(mean_squared_error(y_act_t,\n",
        "                                                                             y_pred_baseline)))"
      ],
      "execution_count": null,
      "outputs": [
        {
          "output_type": "stream",
          "text": [
            "test mean squared error: 0.004426308949860911\n",
            "test baseline mean squared error: 0.00851063829787234\n"
          ],
          "name": "stdout"
        }
      ]
    },
    {
      "cell_type": "code",
      "metadata": {
        "id": "-YZWQqMDR2hq"
      },
      "source": [
        "performance['RNN'] = [mean_squared_error(y_act_t, y_pred_t),\n",
        "                      accuracy_score(y_act_t, y_pred_baseline)]"
      ],
      "execution_count": null,
      "outputs": []
    },
    {
      "cell_type": "markdown",
      "metadata": {
        "id": "yiBr5_yRkEFl"
      },
      "source": [
        "### Performance Analysis"
      ]
    },
    {
      "cell_type": "code",
      "metadata": {
        "colab": {
          "base_uri": "https://localhost:8080/",
          "height": 505
        },
        "id": "p6cHMYhYkDmH",
        "outputId": "edd656f2-ddc0-4d85-d42f-90154ad66707"
      },
      "source": [
        "# Accuracy comparison of various models\n",
        "x = np.arange(len(performance))\n",
        "width = 0.3\n",
        "metric_name = 'accuracy'\n",
        "metric_index = t_model.metrics_names.index(metric_name)\n",
        "val_mae = [v[metric_index] for v in val_performance.values()]\n",
        "test_mae = [v[metric_index] for v in performance.values()]\n",
        "plt.rcParams[\"figure.figsize\"] = (15,8)\n",
        "plt.ylabel('Accuracy')\n",
        "plt.ylim([0.7, 1])\n",
        "plt.bar(x - 0.17, val_mae, width, label='Validation')\n",
        "plt.bar(x + 0.17, test_mae, width, label='Test')\n",
        "plt.xticks(ticks=x, labels=performance.keys(),\n",
        "           rotation=45)\n",
        "_ = plt.legend()"
      ],
      "execution_count": null,
      "outputs": [
        {
          "output_type": "display_data",
          "data": {
            "image/png": "[encoded data removed]",
            "text/plain": [
              "<Figure size 1080x576 with 1 Axes>"
            ]
          },
          "metadata": {
            "tags": [],
            "needs_background": "light"
          }
        }
      ]
    },
    {
      "cell_type": "code",
      "metadata": {
        "colab": {
          "base_uri": "https://localhost:8080/",
          "height": 501
        },
        "id": "QS2tzQtNkcOu",
        "outputId": "1256258c-7ed0-4742-c81e-33413178e4e8"
      },
      "source": [
        "# Loss comparison of various models\n",
        "x = np.arange(len(performance))\n",
        "width = 0.3\n",
        "metric_name = 'loss'\n",
        "metric_index = t_model.metrics_names.index('loss')\n",
        "val_mae = [v[metric_index] for v in val_performance.values()]\n",
        "test_mae = [v[metric_index] for v in performance.values()]\n",
        "plt.rcParams[\"figure.figsize\"] = (15,8)\n",
        "plt.ylabel('Loss')\n",
        "plt.ylim([0.0005, 0.38])\n",
        "plt.bar(x - 0.17, val_mae, width, label='Validation')\n",
        "plt.bar(x + 0.17, test_mae, width, label='Test')\n",
        "plt.xticks(ticks=x, labels=performance.keys(),\n",
        "           rotation=45)\n",
        "_ = plt.legend()"
      ],
      "execution_count": null,
      "outputs": [
        {
          "output_type": "display_data",
          "data": {
            "image/png": "[encoded data removed]",
            "text/plain": [
              "<Figure size 1080x576 with 1 Axes>"
            ]
          },
          "metadata": {
            "tags": [],
            "needs_background": "light"
          }
        }
      ]
    },
    {
      "cell_type": "code",
      "metadata": {
        "colab": {
          "base_uri": "https://localhost:8080/",
          "height": 518
        },
        "id": "nFCHV4wqlp9R",
        "outputId": "49ec15c8-8ae5-4a1f-c0a2-c86c4f786a2b"
      },
      "source": [
        "# Run time comparison of varoius models\n",
        "x = np.arange(len(performance))\n",
        "plt.bar(range(len(run_time)), list(run_time.values()), align='center')\n",
        "plt.xticks(range(len(run_time)), list(run_time.keys()))\n",
        "plt.ylabel('Time (sec)')\n",
        "plt.xticks(ticks=x, labels=run_time.keys(),\n",
        "           rotation=45)\n",
        "plt.tick_params(axis='x', which='major', pad=15)\n",
        "width = 0.3\n",
        "plt.show()"
      ],
      "execution_count": null,
      "outputs": [
        {
          "output_type": "display_data",
          "data": {
            "image/png": "[encoded data removed]",
            "text/plain": [
              "<Figure size 1080x576 with 1 Axes>"
            ]
          },
          "metadata": {
            "tags": [],
            "needs_background": "light"
          }
        }
      ]
    }
  ]
}